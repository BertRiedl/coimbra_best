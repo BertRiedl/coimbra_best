{
 "nbformat": 4,
 "nbformat_minor": 0,
 "metadata": {
  "colab": {
   "provenance": []
  },
  "kernelspec": {
   "name": "python3",
   "display_name": "Python 3 (ipykernel)",
   "language": "python"
  },
  "language_info": {
   "name": "python"
  }
 },
 "cells": [
  {
   "cell_type": "markdown",
   "source": "# Introduction to data science",
   "metadata": {
    "id": "JkkBavq1aLTK"
   }
  },
  {
   "metadata": {},
   "cell_type": "code",
   "outputs": [],
   "execution_count": null,
   "source": [
    "import copy\n",
    "\n",
    "import sklearn\n",
    "import pandas as pd\n",
    "import numpy as np\n",
    "from sklearn.datasets import load_wine\n",
    "import matplotlib.pyplot as plt\n",
    "plt.rcParams[\"figure.figsize\"] = (16,8)\n",
    "plt.rcParams['axes.grid'] = True\n",
    "plt.style.use('fivethirtyeight')\n",
    "plt.rcParams['figure.facecolor'] = 'white'\n",
    "plt.rcParams['axes.facecolor'] = 'white'\n",
    "plt.rcParams['lines.linewidth'] = 3"
   ]
  },
  {
   "metadata": {},
   "cell_type": "code",
   "outputs": [],
   "execution_count": null,
   "source": [
    "dataset = load_wine(as_frame=True)\n",
    "data, target = dataset['data'], dataset['target']\n",
    "data = data[target != 2]\n",
    "target = target[target != 2]\n",
    "\n",
    "dataset = pd.concat((data, target), axis=1)\n",
    "data_visual = copy.deepcopy(dataset)\n",
    "data = data.to_numpy()\n",
    "target = target.to_numpy()"
   ]
  },
  {
   "cell_type": "markdown",
   "source": "## Data Acquisition",
   "metadata": {
    "id": "xrkEsEVuaLrK"
   }
  },
  {
   "metadata": {},
   "cell_type": "markdown",
   "source": "In this tutorial, we will work with a dataset designed for a classification problem. Each sample in the dataset represents a wine and includes 13 features that describe its chemical properties. In addition to these features, each wine sample is labeled with its producer, indicating which of the two wine producers it comes from.\n"
  },
  {
   "metadata": {},
   "cell_type": "markdown",
   "source": "In total, the dataset contains 130 wine samples from two different producers. Structurally, this results in a data table with 130 rows (samples) and 14 columns — 13 columns for the features and 1 column for the class label (the producer)."
  },
  {
   "metadata": {},
   "cell_type": "markdown",
   "source": "This dataset gives us a simple and practical example to start exploring key steps in a typical data science workflow."
  },
  {
   "cell_type": "code",
   "source": [
    "data_visual"
   ],
   "metadata": {
    "id": "PFfI1fWfkYdi",
    "colab": {
     "base_uri": "https://localhost:8080/"
    },
    "executionInfo": {
     "status": "ok",
     "timestamp": 1731609144009,
     "user_tz": 0,
     "elapsed": 393,
     "user": {
      "displayName": "Daniel Agostinho",
      "userId": "10010588641999371336"
     }
    },
    "outputId": "4c7ea279-d3ef-4bdc-b2ba-477cb139fe4f",
    "ExecuteTime": {
     "end_time": "2025-07-21T10:11:05.253558Z",
     "start_time": "2025-07-21T10:11:05.222559Z"
    }
   },
   "outputs": [
    {
     "data": {
      "text/plain": [
       "     alcohol  malic_acid   ash  alcalinity_of_ash  magnesium  total_phenols  \\\n",
       "0      14.23        1.71  2.43               15.6      127.0           2.80   \n",
       "1      13.20        1.78  2.14               11.2      100.0           2.65   \n",
       "2      13.16        2.36  2.67               18.6      101.0           2.80   \n",
       "3      14.37        1.95  2.50               16.8      113.0           3.85   \n",
       "4      13.24        2.59  2.87               21.0      118.0           2.80   \n",
       "..       ...         ...   ...                ...        ...            ...   \n",
       "125    12.07        2.16  2.17               21.0       85.0           2.60   \n",
       "126    12.43        1.53  2.29               21.5       86.0           2.74   \n",
       "127    11.79        2.13  2.78               28.5       92.0           2.13   \n",
       "128    12.37        1.63  2.30               24.5       88.0           2.22   \n",
       "129    12.04        4.30  2.38               22.0       80.0           2.10   \n",
       "\n",
       "     flavanoids  nonflavanoid_phenols  proanthocyanins  color_intensity   hue  \\\n",
       "0          3.06                  0.28             2.29             5.64  1.04   \n",
       "1          2.76                  0.26             1.28             4.38  1.05   \n",
       "2          3.24                  0.30             2.81             5.68  1.03   \n",
       "3          3.49                  0.24             2.18             7.80  0.86   \n",
       "4          2.69                  0.39             1.82             4.32  1.04   \n",
       "..          ...                   ...              ...              ...   ...   \n",
       "125        2.65                  0.37             1.35             2.76  0.86   \n",
       "126        3.15                  0.39             1.77             3.94  0.69   \n",
       "127        2.24                  0.58             1.76             3.00  0.97   \n",
       "128        2.45                  0.40             1.90             2.12  0.89   \n",
       "129        1.75                  0.42             1.35             2.60  0.79   \n",
       "\n",
       "     od280/od315_of_diluted_wines  proline  target  \n",
       "0                            3.92   1065.0       0  \n",
       "1                            3.40   1050.0       0  \n",
       "2                            3.17   1185.0       0  \n",
       "3                            3.45   1480.0       0  \n",
       "4                            2.93    735.0       0  \n",
       "..                            ...      ...     ...  \n",
       "125                          3.28    378.0       1  \n",
       "126                          2.84    352.0       1  \n",
       "127                          2.44    466.0       1  \n",
       "128                          2.78    342.0       1  \n",
       "129                          2.57    580.0       1  \n",
       "\n",
       "[130 rows x 14 columns]"
      ],
      "text/html": [
       "<div>\n",
       "<style scoped>\n",
       "    .dataframe tbody tr th:only-of-type {\n",
       "        vertical-align: middle;\n",
       "    }\n",
       "\n",
       "    .dataframe tbody tr th {\n",
       "        vertical-align: top;\n",
       "    }\n",
       "\n",
       "    .dataframe thead th {\n",
       "        text-align: right;\n",
       "    }\n",
       "</style>\n",
       "<table border=\"1\" class=\"dataframe\">\n",
       "  <thead>\n",
       "    <tr style=\"text-align: right;\">\n",
       "      <th></th>\n",
       "      <th>alcohol</th>\n",
       "      <th>malic_acid</th>\n",
       "      <th>ash</th>\n",
       "      <th>alcalinity_of_ash</th>\n",
       "      <th>magnesium</th>\n",
       "      <th>total_phenols</th>\n",
       "      <th>flavanoids</th>\n",
       "      <th>nonflavanoid_phenols</th>\n",
       "      <th>proanthocyanins</th>\n",
       "      <th>color_intensity</th>\n",
       "      <th>hue</th>\n",
       "      <th>od280/od315_of_diluted_wines</th>\n",
       "      <th>proline</th>\n",
       "      <th>target</th>\n",
       "    </tr>\n",
       "  </thead>\n",
       "  <tbody>\n",
       "    <tr>\n",
       "      <th>0</th>\n",
       "      <td>14.23</td>\n",
       "      <td>1.71</td>\n",
       "      <td>2.43</td>\n",
       "      <td>15.6</td>\n",
       "      <td>127.0</td>\n",
       "      <td>2.80</td>\n",
       "      <td>3.06</td>\n",
       "      <td>0.28</td>\n",
       "      <td>2.29</td>\n",
       "      <td>5.64</td>\n",
       "      <td>1.04</td>\n",
       "      <td>3.92</td>\n",
       "      <td>1065.0</td>\n",
       "      <td>0</td>\n",
       "    </tr>\n",
       "    <tr>\n",
       "      <th>1</th>\n",
       "      <td>13.20</td>\n",
       "      <td>1.78</td>\n",
       "      <td>2.14</td>\n",
       "      <td>11.2</td>\n",
       "      <td>100.0</td>\n",
       "      <td>2.65</td>\n",
       "      <td>2.76</td>\n",
       "      <td>0.26</td>\n",
       "      <td>1.28</td>\n",
       "      <td>4.38</td>\n",
       "      <td>1.05</td>\n",
       "      <td>3.40</td>\n",
       "      <td>1050.0</td>\n",
       "      <td>0</td>\n",
       "    </tr>\n",
       "    <tr>\n",
       "      <th>2</th>\n",
       "      <td>13.16</td>\n",
       "      <td>2.36</td>\n",
       "      <td>2.67</td>\n",
       "      <td>18.6</td>\n",
       "      <td>101.0</td>\n",
       "      <td>2.80</td>\n",
       "      <td>3.24</td>\n",
       "      <td>0.30</td>\n",
       "      <td>2.81</td>\n",
       "      <td>5.68</td>\n",
       "      <td>1.03</td>\n",
       "      <td>3.17</td>\n",
       "      <td>1185.0</td>\n",
       "      <td>0</td>\n",
       "    </tr>\n",
       "    <tr>\n",
       "      <th>3</th>\n",
       "      <td>14.37</td>\n",
       "      <td>1.95</td>\n",
       "      <td>2.50</td>\n",
       "      <td>16.8</td>\n",
       "      <td>113.0</td>\n",
       "      <td>3.85</td>\n",
       "      <td>3.49</td>\n",
       "      <td>0.24</td>\n",
       "      <td>2.18</td>\n",
       "      <td>7.80</td>\n",
       "      <td>0.86</td>\n",
       "      <td>3.45</td>\n",
       "      <td>1480.0</td>\n",
       "      <td>0</td>\n",
       "    </tr>\n",
       "    <tr>\n",
       "      <th>4</th>\n",
       "      <td>13.24</td>\n",
       "      <td>2.59</td>\n",
       "      <td>2.87</td>\n",
       "      <td>21.0</td>\n",
       "      <td>118.0</td>\n",
       "      <td>2.80</td>\n",
       "      <td>2.69</td>\n",
       "      <td>0.39</td>\n",
       "      <td>1.82</td>\n",
       "      <td>4.32</td>\n",
       "      <td>1.04</td>\n",
       "      <td>2.93</td>\n",
       "      <td>735.0</td>\n",
       "      <td>0</td>\n",
       "    </tr>\n",
       "    <tr>\n",
       "      <th>...</th>\n",
       "      <td>...</td>\n",
       "      <td>...</td>\n",
       "      <td>...</td>\n",
       "      <td>...</td>\n",
       "      <td>...</td>\n",
       "      <td>...</td>\n",
       "      <td>...</td>\n",
       "      <td>...</td>\n",
       "      <td>...</td>\n",
       "      <td>...</td>\n",
       "      <td>...</td>\n",
       "      <td>...</td>\n",
       "      <td>...</td>\n",
       "      <td>...</td>\n",
       "    </tr>\n",
       "    <tr>\n",
       "      <th>125</th>\n",
       "      <td>12.07</td>\n",
       "      <td>2.16</td>\n",
       "      <td>2.17</td>\n",
       "      <td>21.0</td>\n",
       "      <td>85.0</td>\n",
       "      <td>2.60</td>\n",
       "      <td>2.65</td>\n",
       "      <td>0.37</td>\n",
       "      <td>1.35</td>\n",
       "      <td>2.76</td>\n",
       "      <td>0.86</td>\n",
       "      <td>3.28</td>\n",
       "      <td>378.0</td>\n",
       "      <td>1</td>\n",
       "    </tr>\n",
       "    <tr>\n",
       "      <th>126</th>\n",
       "      <td>12.43</td>\n",
       "      <td>1.53</td>\n",
       "      <td>2.29</td>\n",
       "      <td>21.5</td>\n",
       "      <td>86.0</td>\n",
       "      <td>2.74</td>\n",
       "      <td>3.15</td>\n",
       "      <td>0.39</td>\n",
       "      <td>1.77</td>\n",
       "      <td>3.94</td>\n",
       "      <td>0.69</td>\n",
       "      <td>2.84</td>\n",
       "      <td>352.0</td>\n",
       "      <td>1</td>\n",
       "    </tr>\n",
       "    <tr>\n",
       "      <th>127</th>\n",
       "      <td>11.79</td>\n",
       "      <td>2.13</td>\n",
       "      <td>2.78</td>\n",
       "      <td>28.5</td>\n",
       "      <td>92.0</td>\n",
       "      <td>2.13</td>\n",
       "      <td>2.24</td>\n",
       "      <td>0.58</td>\n",
       "      <td>1.76</td>\n",
       "      <td>3.00</td>\n",
       "      <td>0.97</td>\n",
       "      <td>2.44</td>\n",
       "      <td>466.0</td>\n",
       "      <td>1</td>\n",
       "    </tr>\n",
       "    <tr>\n",
       "      <th>128</th>\n",
       "      <td>12.37</td>\n",
       "      <td>1.63</td>\n",
       "      <td>2.30</td>\n",
       "      <td>24.5</td>\n",
       "      <td>88.0</td>\n",
       "      <td>2.22</td>\n",
       "      <td>2.45</td>\n",
       "      <td>0.40</td>\n",
       "      <td>1.90</td>\n",
       "      <td>2.12</td>\n",
       "      <td>0.89</td>\n",
       "      <td>2.78</td>\n",
       "      <td>342.0</td>\n",
       "      <td>1</td>\n",
       "    </tr>\n",
       "    <tr>\n",
       "      <th>129</th>\n",
       "      <td>12.04</td>\n",
       "      <td>4.30</td>\n",
       "      <td>2.38</td>\n",
       "      <td>22.0</td>\n",
       "      <td>80.0</td>\n",
       "      <td>2.10</td>\n",
       "      <td>1.75</td>\n",
       "      <td>0.42</td>\n",
       "      <td>1.35</td>\n",
       "      <td>2.60</td>\n",
       "      <td>0.79</td>\n",
       "      <td>2.57</td>\n",
       "      <td>580.0</td>\n",
       "      <td>1</td>\n",
       "    </tr>\n",
       "  </tbody>\n",
       "</table>\n",
       "<p>130 rows × 14 columns</p>\n",
       "</div>"
      ]
     },
     "execution_count": 5,
     "metadata": {},
     "output_type": "execute_result"
    }
   ],
   "execution_count": 5
  },
  {
   "cell_type": "markdown",
   "source": "The goal of this tutorial is then to develop a sistem that can automatically identify and distinguish the wines from the two producers.",
   "metadata": {
    "id": "W9boBe-G31-l"
   }
  },
  {
   "cell_type": "markdown",
   "source": "## **Exploratory Data Analysis**",
   "metadata": {
    "id": "B0qopCkqs4d4"
   }
  },
  {
   "cell_type": "markdown",
   "source": "### **Data Visualization**\n",
   "metadata": {
    "id": "PlXjWhFd1HtN"
   }
  },
  {
   "metadata": {},
   "cell_type": "markdown",
   "source": "Data visualization is a crucial step in any data science workflow. Before diving into statistical analysis or building complex models, it's essential to explore and understand the data visually."
  },
  {
   "metadata": {},
   "cell_type": "markdown",
   "source": [
    "So why do we do data visualization?\n",
    "\n",
    "- Raw data can be overwhelming and difficult to interpret. Visualization transforms the rows and columns of the dataset into intuitive pictures, helping us to quicly grasp some patterns, trends, and relationships that are present in the data;\n",
    "- By visualizing data, you can form hypotheses, decide which features are important, and choose appropriate modeling techniques;\n",
    "- Visualization makes it easier to explain findings to others. A well-designed plot can often say more than a table of numbers."
   ]
  },
  {
   "cell_type": "code",
   "source": [
    "var_name_1 = 'alcohol'\n",
    "var_name_2 = 'color_intensity'\n",
    "\n",
    "caracteristica_1 = data_visual[var_name_1].to_numpy()\n",
    "caracteristica_2 = data_visual[var_name_2].to_numpy()\n",
    "targets = data_visual['target'].to_numpy()\n",
    "\n",
    "plt.scatter(caracteristica_1[targets == 0], caracteristica_2[targets == 0], label=\"Class 0\")\n",
    "plt.scatter(caracteristica_1[targets == 1], caracteristica_2[targets == 1], label=\"Class 1\")\n",
    "plt.xlabel(f'{var_name_1}')\n",
    "plt.ylabel(f'{var_name_2}')\n",
    "plt.legend(loc=\"lower right\")"
   ],
   "metadata": {
    "id": "Pc9IJn761HSg",
    "colab": {
     "base_uri": "https://localhost:8080/"
    },
    "executionInfo": {
     "status": "ok",
     "timestamp": 1731609254742,
     "user_tz": 0,
     "elapsed": 968,
     "user": {
      "displayName": "Daniel Agostinho",
      "userId": "10010588641999371336"
     }
    },
    "outputId": "f4adc91d-b620-4258-969b-4ca3c977dade",
    "ExecuteTime": {
     "end_time": "2025-07-21T10:11:20.435013Z",
     "start_time": "2025-07-21T10:11:20.126013Z"
    }
   },
   "outputs": [
    {
     "data": {
      "text/plain": [
       "<matplotlib.legend.Legend at 0x1fd129ab2e0>"
      ]
     },
     "execution_count": 6,
     "metadata": {},
     "output_type": "execute_result"
    },
    {
     "data": {
      "text/plain": [
       "<Figure size 1600x800 with 1 Axes>"
      ],
      "image/png": "[encoded data removed]"
     },
     "metadata": {},
     "output_type": "display_data"
    }
   ],
   "execution_count": 6
  },
  {
   "cell_type": "markdown",
   "source": "## Data Pre-processing: Handling Missing Values",
   "metadata": {
    "id": "Nj9l9y10mJ7z"
   }
  },
  {
   "metadata": {},
   "cell_type": "markdown",
   "source": "Before analyzing or modeling any dataset, it's important to inspect and clean the data. This stage, known as data pre-processing, ensures that the data is in a good shape for downstream tasks like visualization, statistical analysis, and machine learning."
  },
  {
   "metadata": {},
   "cell_type": "markdown",
   "source": "Even though our wine dataset is complete, it's still important to understand how to handle missing data, because it's a common situation in data science."
  },
  {
   "cell_type": "markdown",
   "source": "**Example:**",
   "metadata": {
    "id": "KZFpCpuD4gYn"
   }
  },
  {
   "cell_type": "markdown",
   "source": "Suppose that the previous dataset is not complete, and for some reason (e.g., a bad sensor) it was not possible to measure the feature ***alcohol*** for some wine samples.",
   "metadata": {
    "id": "GOy1oMkl47ZK"
   }
  },
  {
   "cell_type": "code",
   "source": [
    "# Where we randomly remove some values from the dataset to create a new dataset that reflects the problem of missing data\n",
    "random_idx = [0, 2, 4, 125, 126, 128]\n",
    "missing_dataset = copy.deepcopy(data_visual)\n",
    "missing_dataset.loc[random_idx, 'alcohol'] = -1\n",
    "missing_dataset"
   ],
   "metadata": {
    "id": "B6Nj_LTKmN2Q",
    "colab": {
     "base_uri": "https://localhost:8080/"
    },
    "executionInfo": {
     "status": "ok",
     "timestamp": 1731609606726,
     "user_tz": 0,
     "elapsed": 291,
     "user": {
      "displayName": "Daniel Agostinho",
      "userId": "10010588641999371336"
     }
    },
    "outputId": "e325b767-0617-4fb5-c60b-abf835cf3b52",
    "ExecuteTime": {
     "end_time": "2025-07-21T10:11:26.269804Z",
     "start_time": "2025-07-21T10:11:26.244804Z"
    }
   },
   "outputs": [
    {
     "data": {
      "text/plain": [
       "     alcohol  malic_acid   ash  alcalinity_of_ash  magnesium  total_phenols  \\\n",
       "0      -1.00        1.71  2.43               15.6      127.0           2.80   \n",
       "1      13.20        1.78  2.14               11.2      100.0           2.65   \n",
       "2      -1.00        2.36  2.67               18.6      101.0           2.80   \n",
       "3      14.37        1.95  2.50               16.8      113.0           3.85   \n",
       "4      -1.00        2.59  2.87               21.0      118.0           2.80   \n",
       "..       ...         ...   ...                ...        ...            ...   \n",
       "125    -1.00        2.16  2.17               21.0       85.0           2.60   \n",
       "126    -1.00        1.53  2.29               21.5       86.0           2.74   \n",
       "127    11.79        2.13  2.78               28.5       92.0           2.13   \n",
       "128    -1.00        1.63  2.30               24.5       88.0           2.22   \n",
       "129    12.04        4.30  2.38               22.0       80.0           2.10   \n",
       "\n",
       "     flavanoids  nonflavanoid_phenols  proanthocyanins  color_intensity   hue  \\\n",
       "0          3.06                  0.28             2.29             5.64  1.04   \n",
       "1          2.76                  0.26             1.28             4.38  1.05   \n",
       "2          3.24                  0.30             2.81             5.68  1.03   \n",
       "3          3.49                  0.24             2.18             7.80  0.86   \n",
       "4          2.69                  0.39             1.82             4.32  1.04   \n",
       "..          ...                   ...              ...              ...   ...   \n",
       "125        2.65                  0.37             1.35             2.76  0.86   \n",
       "126        3.15                  0.39             1.77             3.94  0.69   \n",
       "127        2.24                  0.58             1.76             3.00  0.97   \n",
       "128        2.45                  0.40             1.90             2.12  0.89   \n",
       "129        1.75                  0.42             1.35             2.60  0.79   \n",
       "\n",
       "     od280/od315_of_diluted_wines  proline  target  \n",
       "0                            3.92   1065.0       0  \n",
       "1                            3.40   1050.0       0  \n",
       "2                            3.17   1185.0       0  \n",
       "3                            3.45   1480.0       0  \n",
       "4                            2.93    735.0       0  \n",
       "..                            ...      ...     ...  \n",
       "125                          3.28    378.0       1  \n",
       "126                          2.84    352.0       1  \n",
       "127                          2.44    466.0       1  \n",
       "128                          2.78    342.0       1  \n",
       "129                          2.57    580.0       1  \n",
       "\n",
       "[130 rows x 14 columns]"
      ],
      "text/html": [
       "<div>\n",
       "<style scoped>\n",
       "    .dataframe tbody tr th:only-of-type {\n",
       "        vertical-align: middle;\n",
       "    }\n",
       "\n",
       "    .dataframe tbody tr th {\n",
       "        vertical-align: top;\n",
       "    }\n",
       "\n",
       "    .dataframe thead th {\n",
       "        text-align: right;\n",
       "    }\n",
       "</style>\n",
       "<table border=\"1\" class=\"dataframe\">\n",
       "  <thead>\n",
       "    <tr style=\"text-align: right;\">\n",
       "      <th></th>\n",
       "      <th>alcohol</th>\n",
       "      <th>malic_acid</th>\n",
       "      <th>ash</th>\n",
       "      <th>alcalinity_of_ash</th>\n",
       "      <th>magnesium</th>\n",
       "      <th>total_phenols</th>\n",
       "      <th>flavanoids</th>\n",
       "      <th>nonflavanoid_phenols</th>\n",
       "      <th>proanthocyanins</th>\n",
       "      <th>color_intensity</th>\n",
       "      <th>hue</th>\n",
       "      <th>od280/od315_of_diluted_wines</th>\n",
       "      <th>proline</th>\n",
       "      <th>target</th>\n",
       "    </tr>\n",
       "  </thead>\n",
       "  <tbody>\n",
       "    <tr>\n",
       "      <th>0</th>\n",
       "      <td>-1.00</td>\n",
       "      <td>1.71</td>\n",
       "      <td>2.43</td>\n",
       "      <td>15.6</td>\n",
       "      <td>127.0</td>\n",
       "      <td>2.80</td>\n",
       "      <td>3.06</td>\n",
       "      <td>0.28</td>\n",
       "      <td>2.29</td>\n",
       "      <td>5.64</td>\n",
       "      <td>1.04</td>\n",
       "      <td>3.92</td>\n",
       "      <td>1065.0</td>\n",
       "      <td>0</td>\n",
       "    </tr>\n",
       "    <tr>\n",
       "      <th>1</th>\n",
       "      <td>13.20</td>\n",
       "      <td>1.78</td>\n",
       "      <td>2.14</td>\n",
       "      <td>11.2</td>\n",
       "      <td>100.0</td>\n",
       "      <td>2.65</td>\n",
       "      <td>2.76</td>\n",
       "      <td>0.26</td>\n",
       "      <td>1.28</td>\n",
       "      <td>4.38</td>\n",
       "      <td>1.05</td>\n",
       "      <td>3.40</td>\n",
       "      <td>1050.0</td>\n",
       "      <td>0</td>\n",
       "    </tr>\n",
       "    <tr>\n",
       "      <th>2</th>\n",
       "      <td>-1.00</td>\n",
       "      <td>2.36</td>\n",
       "      <td>2.67</td>\n",
       "      <td>18.6</td>\n",
       "      <td>101.0</td>\n",
       "      <td>2.80</td>\n",
       "      <td>3.24</td>\n",
       "      <td>0.30</td>\n",
       "      <td>2.81</td>\n",
       "      <td>5.68</td>\n",
       "      <td>1.03</td>\n",
       "      <td>3.17</td>\n",
       "      <td>1185.0</td>\n",
       "      <td>0</td>\n",
       "    </tr>\n",
       "    <tr>\n",
       "      <th>3</th>\n",
       "      <td>14.37</td>\n",
       "      <td>1.95</td>\n",
       "      <td>2.50</td>\n",
       "      <td>16.8</td>\n",
       "      <td>113.0</td>\n",
       "      <td>3.85</td>\n",
       "      <td>3.49</td>\n",
       "      <td>0.24</td>\n",
       "      <td>2.18</td>\n",
       "      <td>7.80</td>\n",
       "      <td>0.86</td>\n",
       "      <td>3.45</td>\n",
       "      <td>1480.0</td>\n",
       "      <td>0</td>\n",
       "    </tr>\n",
       "    <tr>\n",
       "      <th>4</th>\n",
       "      <td>-1.00</td>\n",
       "      <td>2.59</td>\n",
       "      <td>2.87</td>\n",
       "      <td>21.0</td>\n",
       "      <td>118.0</td>\n",
       "      <td>2.80</td>\n",
       "      <td>2.69</td>\n",
       "      <td>0.39</td>\n",
       "      <td>1.82</td>\n",
       "      <td>4.32</td>\n",
       "      <td>1.04</td>\n",
       "      <td>2.93</td>\n",
       "      <td>735.0</td>\n",
       "      <td>0</td>\n",
       "    </tr>\n",
       "    <tr>\n",
       "      <th>...</th>\n",
       "      <td>...</td>\n",
       "      <td>...</td>\n",
       "      <td>...</td>\n",
       "      <td>...</td>\n",
       "      <td>...</td>\n",
       "      <td>...</td>\n",
       "      <td>...</td>\n",
       "      <td>...</td>\n",
       "      <td>...</td>\n",
       "      <td>...</td>\n",
       "      <td>...</td>\n",
       "      <td>...</td>\n",
       "      <td>...</td>\n",
       "      <td>...</td>\n",
       "    </tr>\n",
       "    <tr>\n",
       "      <th>125</th>\n",
       "      <td>-1.00</td>\n",
       "      <td>2.16</td>\n",
       "      <td>2.17</td>\n",
       "      <td>21.0</td>\n",
       "      <td>85.0</td>\n",
       "      <td>2.60</td>\n",
       "      <td>2.65</td>\n",
       "      <td>0.37</td>\n",
       "      <td>1.35</td>\n",
       "      <td>2.76</td>\n",
       "      <td>0.86</td>\n",
       "      <td>3.28</td>\n",
       "      <td>378.0</td>\n",
       "      <td>1</td>\n",
       "    </tr>\n",
       "    <tr>\n",
       "      <th>126</th>\n",
       "      <td>-1.00</td>\n",
       "      <td>1.53</td>\n",
       "      <td>2.29</td>\n",
       "      <td>21.5</td>\n",
       "      <td>86.0</td>\n",
       "      <td>2.74</td>\n",
       "      <td>3.15</td>\n",
       "      <td>0.39</td>\n",
       "      <td>1.77</td>\n",
       "      <td>3.94</td>\n",
       "      <td>0.69</td>\n",
       "      <td>2.84</td>\n",
       "      <td>352.0</td>\n",
       "      <td>1</td>\n",
       "    </tr>\n",
       "    <tr>\n",
       "      <th>127</th>\n",
       "      <td>11.79</td>\n",
       "      <td>2.13</td>\n",
       "      <td>2.78</td>\n",
       "      <td>28.5</td>\n",
       "      <td>92.0</td>\n",
       "      <td>2.13</td>\n",
       "      <td>2.24</td>\n",
       "      <td>0.58</td>\n",
       "      <td>1.76</td>\n",
       "      <td>3.00</td>\n",
       "      <td>0.97</td>\n",
       "      <td>2.44</td>\n",
       "      <td>466.0</td>\n",
       "      <td>1</td>\n",
       "    </tr>\n",
       "    <tr>\n",
       "      <th>128</th>\n",
       "      <td>-1.00</td>\n",
       "      <td>1.63</td>\n",
       "      <td>2.30</td>\n",
       "      <td>24.5</td>\n",
       "      <td>88.0</td>\n",
       "      <td>2.22</td>\n",
       "      <td>2.45</td>\n",
       "      <td>0.40</td>\n",
       "      <td>1.90</td>\n",
       "      <td>2.12</td>\n",
       "      <td>0.89</td>\n",
       "      <td>2.78</td>\n",
       "      <td>342.0</td>\n",
       "      <td>1</td>\n",
       "    </tr>\n",
       "    <tr>\n",
       "      <th>129</th>\n",
       "      <td>12.04</td>\n",
       "      <td>4.30</td>\n",
       "      <td>2.38</td>\n",
       "      <td>22.0</td>\n",
       "      <td>80.0</td>\n",
       "      <td>2.10</td>\n",
       "      <td>1.75</td>\n",
       "      <td>0.42</td>\n",
       "      <td>1.35</td>\n",
       "      <td>2.60</td>\n",
       "      <td>0.79</td>\n",
       "      <td>2.57</td>\n",
       "      <td>580.0</td>\n",
       "      <td>1</td>\n",
       "    </tr>\n",
       "  </tbody>\n",
       "</table>\n",
       "<p>130 rows × 14 columns</p>\n",
       "</div>"
      ]
     },
     "execution_count": 7,
     "metadata": {},
     "output_type": "execute_result"
    }
   ],
   "execution_count": 7
  },
  {
   "metadata": {},
   "cell_type": "markdown",
   "source": "We will now showcase two simples approaches that can be used to deal with this missing values."
  },
  {
   "cell_type": "markdown",
   "source": "#### **Using the mean**",
   "metadata": {
    "id": "GnGOnHfEGef4"
   }
  },
  {
   "metadata": {},
   "cell_type": "markdown",
   "source": [
    "A simple and commonly used approach when handling missing data is to replace the missing value with the **mean of that feature**.\n",
    "\n",
    "If we are dealing with a **classification problem**, like in this case, a better strategy can be to compute the **mean of the feature within the same class** (i.e., same wine producer) and use that value instead.\n",
    "\n",
    "This helps preserve differences between classes and can lead to better model performance."
   ]
  },
  {
   "cell_type": "code",
   "source": [
    "# Select only the samples related to each target class\n",
    "targets = missing_dataset['target']\n",
    "alcohol_data = missing_dataset['alcohol']\n",
    "\n",
    "alcohol_data_class_0 = alcohol_data[targets == 0]\n",
    "alcohol_data_class_1 = alcohol_data[targets == 1]"
   ],
   "metadata": {
    "id": "HIoY90UaEymO",
    "executionInfo": {
     "status": "error",
     "timestamp": 1731609595885,
     "user_tz": 0,
     "elapsed": 332,
     "user": {
      "displayName": "Daniel Agostinho",
      "userId": "10010588641999371336"
     }
    },
    "outputId": "0d2111db-c90c-40b3-9eed-f6756531f7dc",
    "colab": {
     "base_uri": "https://localhost:8080/"
    },
    "ExecuteTime": {
     "end_time": "2025-07-21T10:11:31.148230Z",
     "start_time": "2025-07-21T10:11:31.132229Z"
    }
   },
   "outputs": [],
   "execution_count": 8
  },
  {
   "cell_type": "markdown",
   "source": "The goal now is to calculate the mean of the feature for each target class.",
   "metadata": {
    "id": "dS1xU2ouqGF4"
   }
  },
  {
   "cell_type": "markdown",
   "source": "**Target 0**",
   "metadata": {
    "id": "fx129_WWqIwq"
   }
  },
  {
   "cell_type": "code",
   "source": [
    "missing_data_idx = np.where(alcohol_data_class_0 == -1)[0]\n",
    "complete_data_class_0 = alcohol_data_class_0[alcohol_data_class_0 != -1]\n",
    "mean_of_class_0 = round(complete_data_class_0.mean(), 2)\n",
    "alcohol_data_class_0[missing_data_idx] = mean_of_class_0\n",
    "mean_of_class_0"
   ],
   "metadata": {
    "id": "Tnx6THjNqERo",
    "executionInfo": {
     "status": "error",
     "timestamp": 1731609597179,
     "user_tz": 0,
     "elapsed": 289,
     "user": {
      "displayName": "Daniel Agostinho",
      "userId": "10010588641999371336"
     }
    },
    "outputId": "a5c15f76-46f9-4ce2-cc4f-31cf0d47fce3",
    "colab": {
     "base_uri": "https://localhost:8080/"
    },
    "ExecuteTime": {
     "end_time": "2025-07-21T10:11:32.978959Z",
     "start_time": "2025-07-21T10:11:32.959959Z"
    }
   },
   "outputs": [
    {
     "data": {
      "text/plain": [
       "np.float64(13.76)"
      ]
     },
     "execution_count": 9,
     "metadata": {},
     "output_type": "execute_result"
    }
   ],
   "execution_count": 9
  },
  {
   "cell_type": "markdown",
   "source": "**Targe 1**",
   "metadata": {
    "id": "BLzUGIYxqXMa"
   }
  },
  {
   "cell_type": "code",
   "source": [
    "missing_data_idx = np.where(alcohol_data_class_1 == -1)[0]\n",
    "complete_data_class_1 = alcohol_data_class_1[alcohol_data_class_1 != -1]\n",
    "mean_of_class_1 = round(complete_data_class_1.mean(), 2)\n",
    "alcohol_data_class_1[missing_data_idx] = mean_of_class_1\n",
    "mean_of_class_1"
   ],
   "metadata": {
    "id": "nQTPnYJJqXmX",
    "ExecuteTime": {
     "end_time": "2025-07-21T10:11:35.289707Z",
     "start_time": "2025-07-21T10:11:35.277678Z"
    }
   },
   "outputs": [
    {
     "data": {
      "text/plain": [
       "np.float64(12.28)"
      ]
     },
     "execution_count": 10,
     "metadata": {},
     "output_type": "execute_result"
    }
   ],
   "execution_count": 10
  },
  {
   "cell_type": "markdown",
   "source": "After calculating the mean of the feature for each target class we now have to replace the missing values with the respective means.",
   "metadata": {
    "id": "pI4HTZk2qlnu"
   }
  },
  {
   "cell_type": "code",
   "source": [
    "missing_dataset.loc[(missing_dataset['target'] == 0) & (missing_dataset['alcohol'] == -1), 'alcohol'] = mean_of_class_0\n",
    "missing_dataset.loc[(missing_dataset['target'] == 1) & (missing_dataset['alcohol'] == -1), 'alcohol'] = mean_of_class_1\n",
    "missing_dataset"
   ],
   "metadata": {
    "id": "dRH9W-lKqmKm",
    "ExecuteTime": {
     "end_time": "2025-07-21T10:11:41.952200Z",
     "start_time": "2025-07-21T10:11:41.927200Z"
    }
   },
   "outputs": [
    {
     "data": {
      "text/plain": [
       "     alcohol  malic_acid   ash  alcalinity_of_ash  magnesium  total_phenols  \\\n",
       "0      13.76        1.71  2.43               15.6      127.0           2.80   \n",
       "1      13.20        1.78  2.14               11.2      100.0           2.65   \n",
       "2      13.76        2.36  2.67               18.6      101.0           2.80   \n",
       "3      14.37        1.95  2.50               16.8      113.0           3.85   \n",
       "4      13.76        2.59  2.87               21.0      118.0           2.80   \n",
       "..       ...         ...   ...                ...        ...            ...   \n",
       "125    12.28        2.16  2.17               21.0       85.0           2.60   \n",
       "126    12.28        1.53  2.29               21.5       86.0           2.74   \n",
       "127    11.79        2.13  2.78               28.5       92.0           2.13   \n",
       "128    12.28        1.63  2.30               24.5       88.0           2.22   \n",
       "129    12.04        4.30  2.38               22.0       80.0           2.10   \n",
       "\n",
       "     flavanoids  nonflavanoid_phenols  proanthocyanins  color_intensity   hue  \\\n",
       "0          3.06                  0.28             2.29             5.64  1.04   \n",
       "1          2.76                  0.26             1.28             4.38  1.05   \n",
       "2          3.24                  0.30             2.81             5.68  1.03   \n",
       "3          3.49                  0.24             2.18             7.80  0.86   \n",
       "4          2.69                  0.39             1.82             4.32  1.04   \n",
       "..          ...                   ...              ...              ...   ...   \n",
       "125        2.65                  0.37             1.35             2.76  0.86   \n",
       "126        3.15                  0.39             1.77             3.94  0.69   \n",
       "127        2.24                  0.58             1.76             3.00  0.97   \n",
       "128        2.45                  0.40             1.90             2.12  0.89   \n",
       "129        1.75                  0.42             1.35             2.60  0.79   \n",
       "\n",
       "     od280/od315_of_diluted_wines  proline  target  \n",
       "0                            3.92   1065.0       0  \n",
       "1                            3.40   1050.0       0  \n",
       "2                            3.17   1185.0       0  \n",
       "3                            3.45   1480.0       0  \n",
       "4                            2.93    735.0       0  \n",
       "..                            ...      ...     ...  \n",
       "125                          3.28    378.0       1  \n",
       "126                          2.84    352.0       1  \n",
       "127                          2.44    466.0       1  \n",
       "128                          2.78    342.0       1  \n",
       "129                          2.57    580.0       1  \n",
       "\n",
       "[130 rows x 14 columns]"
      ],
      "text/html": [
       "<div>\n",
       "<style scoped>\n",
       "    .dataframe tbody tr th:only-of-type {\n",
       "        vertical-align: middle;\n",
       "    }\n",
       "\n",
       "    .dataframe tbody tr th {\n",
       "        vertical-align: top;\n",
       "    }\n",
       "\n",
       "    .dataframe thead th {\n",
       "        text-align: right;\n",
       "    }\n",
       "</style>\n",
       "<table border=\"1\" class=\"dataframe\">\n",
       "  <thead>\n",
       "    <tr style=\"text-align: right;\">\n",
       "      <th></th>\n",
       "      <th>alcohol</th>\n",
       "      <th>malic_acid</th>\n",
       "      <th>ash</th>\n",
       "      <th>alcalinity_of_ash</th>\n",
       "      <th>magnesium</th>\n",
       "      <th>total_phenols</th>\n",
       "      <th>flavanoids</th>\n",
       "      <th>nonflavanoid_phenols</th>\n",
       "      <th>proanthocyanins</th>\n",
       "      <th>color_intensity</th>\n",
       "      <th>hue</th>\n",
       "      <th>od280/od315_of_diluted_wines</th>\n",
       "      <th>proline</th>\n",
       "      <th>target</th>\n",
       "    </tr>\n",
       "  </thead>\n",
       "  <tbody>\n",
       "    <tr>\n",
       "      <th>0</th>\n",
       "      <td>13.76</td>\n",
       "      <td>1.71</td>\n",
       "      <td>2.43</td>\n",
       "      <td>15.6</td>\n",
       "      <td>127.0</td>\n",
       "      <td>2.80</td>\n",
       "      <td>3.06</td>\n",
       "      <td>0.28</td>\n",
       "      <td>2.29</td>\n",
       "      <td>5.64</td>\n",
       "      <td>1.04</td>\n",
       "      <td>3.92</td>\n",
       "      <td>1065.0</td>\n",
       "      <td>0</td>\n",
       "    </tr>\n",
       "    <tr>\n",
       "      <th>1</th>\n",
       "      <td>13.20</td>\n",
       "      <td>1.78</td>\n",
       "      <td>2.14</td>\n",
       "      <td>11.2</td>\n",
       "      <td>100.0</td>\n",
       "      <td>2.65</td>\n",
       "      <td>2.76</td>\n",
       "      <td>0.26</td>\n",
       "      <td>1.28</td>\n",
       "      <td>4.38</td>\n",
       "      <td>1.05</td>\n",
       "      <td>3.40</td>\n",
       "      <td>1050.0</td>\n",
       "      <td>0</td>\n",
       "    </tr>\n",
       "    <tr>\n",
       "      <th>2</th>\n",
       "      <td>13.76</td>\n",
       "      <td>2.36</td>\n",
       "      <td>2.67</td>\n",
       "      <td>18.6</td>\n",
       "      <td>101.0</td>\n",
       "      <td>2.80</td>\n",
       "      <td>3.24</td>\n",
       "      <td>0.30</td>\n",
       "      <td>2.81</td>\n",
       "      <td>5.68</td>\n",
       "      <td>1.03</td>\n",
       "      <td>3.17</td>\n",
       "      <td>1185.0</td>\n",
       "      <td>0</td>\n",
       "    </tr>\n",
       "    <tr>\n",
       "      <th>3</th>\n",
       "      <td>14.37</td>\n",
       "      <td>1.95</td>\n",
       "      <td>2.50</td>\n",
       "      <td>16.8</td>\n",
       "      <td>113.0</td>\n",
       "      <td>3.85</td>\n",
       "      <td>3.49</td>\n",
       "      <td>0.24</td>\n",
       "      <td>2.18</td>\n",
       "      <td>7.80</td>\n",
       "      <td>0.86</td>\n",
       "      <td>3.45</td>\n",
       "      <td>1480.0</td>\n",
       "      <td>0</td>\n",
       "    </tr>\n",
       "    <tr>\n",
       "      <th>4</th>\n",
       "      <td>13.76</td>\n",
       "      <td>2.59</td>\n",
       "      <td>2.87</td>\n",
       "      <td>21.0</td>\n",
       "      <td>118.0</td>\n",
       "      <td>2.80</td>\n",
       "      <td>2.69</td>\n",
       "      <td>0.39</td>\n",
       "      <td>1.82</td>\n",
       "      <td>4.32</td>\n",
       "      <td>1.04</td>\n",
       "      <td>2.93</td>\n",
       "      <td>735.0</td>\n",
       "      <td>0</td>\n",
       "    </tr>\n",
       "    <tr>\n",
       "      <th>...</th>\n",
       "      <td>...</td>\n",
       "      <td>...</td>\n",
       "      <td>...</td>\n",
       "      <td>...</td>\n",
       "      <td>...</td>\n",
       "      <td>...</td>\n",
       "      <td>...</td>\n",
       "      <td>...</td>\n",
       "      <td>...</td>\n",
       "      <td>...</td>\n",
       "      <td>...</td>\n",
       "      <td>...</td>\n",
       "      <td>...</td>\n",
       "      <td>...</td>\n",
       "    </tr>\n",
       "    <tr>\n",
       "      <th>125</th>\n",
       "      <td>12.28</td>\n",
       "      <td>2.16</td>\n",
       "      <td>2.17</td>\n",
       "      <td>21.0</td>\n",
       "      <td>85.0</td>\n",
       "      <td>2.60</td>\n",
       "      <td>2.65</td>\n",
       "      <td>0.37</td>\n",
       "      <td>1.35</td>\n",
       "      <td>2.76</td>\n",
       "      <td>0.86</td>\n",
       "      <td>3.28</td>\n",
       "      <td>378.0</td>\n",
       "      <td>1</td>\n",
       "    </tr>\n",
       "    <tr>\n",
       "      <th>126</th>\n",
       "      <td>12.28</td>\n",
       "      <td>1.53</td>\n",
       "      <td>2.29</td>\n",
       "      <td>21.5</td>\n",
       "      <td>86.0</td>\n",
       "      <td>2.74</td>\n",
       "      <td>3.15</td>\n",
       "      <td>0.39</td>\n",
       "      <td>1.77</td>\n",
       "      <td>3.94</td>\n",
       "      <td>0.69</td>\n",
       "      <td>2.84</td>\n",
       "      <td>352.0</td>\n",
       "      <td>1</td>\n",
       "    </tr>\n",
       "    <tr>\n",
       "      <th>127</th>\n",
       "      <td>11.79</td>\n",
       "      <td>2.13</td>\n",
       "      <td>2.78</td>\n",
       "      <td>28.5</td>\n",
       "      <td>92.0</td>\n",
       "      <td>2.13</td>\n",
       "      <td>2.24</td>\n",
       "      <td>0.58</td>\n",
       "      <td>1.76</td>\n",
       "      <td>3.00</td>\n",
       "      <td>0.97</td>\n",
       "      <td>2.44</td>\n",
       "      <td>466.0</td>\n",
       "      <td>1</td>\n",
       "    </tr>\n",
       "    <tr>\n",
       "      <th>128</th>\n",
       "      <td>12.28</td>\n",
       "      <td>1.63</td>\n",
       "      <td>2.30</td>\n",
       "      <td>24.5</td>\n",
       "      <td>88.0</td>\n",
       "      <td>2.22</td>\n",
       "      <td>2.45</td>\n",
       "      <td>0.40</td>\n",
       "      <td>1.90</td>\n",
       "      <td>2.12</td>\n",
       "      <td>0.89</td>\n",
       "      <td>2.78</td>\n",
       "      <td>342.0</td>\n",
       "      <td>1</td>\n",
       "    </tr>\n",
       "    <tr>\n",
       "      <th>129</th>\n",
       "      <td>12.04</td>\n",
       "      <td>4.30</td>\n",
       "      <td>2.38</td>\n",
       "      <td>22.0</td>\n",
       "      <td>80.0</td>\n",
       "      <td>2.10</td>\n",
       "      <td>1.75</td>\n",
       "      <td>0.42</td>\n",
       "      <td>1.35</td>\n",
       "      <td>2.60</td>\n",
       "      <td>0.79</td>\n",
       "      <td>2.57</td>\n",
       "      <td>580.0</td>\n",
       "      <td>1</td>\n",
       "    </tr>\n",
       "  </tbody>\n",
       "</table>\n",
       "<p>130 rows × 14 columns</p>\n",
       "</div>"
      ]
     },
     "execution_count": 11,
     "metadata": {},
     "output_type": "execute_result"
    }
   ],
   "execution_count": 11
  },
  {
   "cell_type": "markdown",
   "source": "Let's now compare the values:",
   "metadata": {
    "id": "4eo9fZN18GhS"
   }
  },
  {
   "cell_type": "code",
   "source": [
    "true_data = data_visual.loc[random_idx, 'alcohol'].to_numpy()\n",
    "imputed_data = missing_dataset.loc[random_idx, 'alcohol'].to_numpy()\n",
    "\n",
    "pd.DataFrame(np.vstack((true_data, imputed_data)).transpose(), columns=['Real Data', 'Imputed Data'])"
   ],
   "metadata": {
    "id": "1Jio8PaQ8HDb",
    "ExecuteTime": {
     "end_time": "2025-07-21T10:15:33.783551Z",
     "start_time": "2025-07-21T10:15:33.773553Z"
    }
   },
   "outputs": [
    {
     "data": {
      "text/plain": [
       "   Real Data  Imputed Data\n",
       "0      14.23         13.76\n",
       "1      13.16         13.76\n",
       "2      13.24         13.76\n",
       "3      12.07         12.28\n",
       "4      12.43         12.28\n",
       "5      12.37         12.28"
      ],
      "text/html": [
       "<div>\n",
       "<style scoped>\n",
       "    .dataframe tbody tr th:only-of-type {\n",
       "        vertical-align: middle;\n",
       "    }\n",
       "\n",
       "    .dataframe tbody tr th {\n",
       "        vertical-align: top;\n",
       "    }\n",
       "\n",
       "    .dataframe thead th {\n",
       "        text-align: right;\n",
       "    }\n",
       "</style>\n",
       "<table border=\"1\" class=\"dataframe\">\n",
       "  <thead>\n",
       "    <tr style=\"text-align: right;\">\n",
       "      <th></th>\n",
       "      <th>Real Data</th>\n",
       "      <th>Imputed Data</th>\n",
       "    </tr>\n",
       "  </thead>\n",
       "  <tbody>\n",
       "    <tr>\n",
       "      <th>0</th>\n",
       "      <td>14.23</td>\n",
       "      <td>13.76</td>\n",
       "    </tr>\n",
       "    <tr>\n",
       "      <th>1</th>\n",
       "      <td>13.16</td>\n",
       "      <td>13.76</td>\n",
       "    </tr>\n",
       "    <tr>\n",
       "      <th>2</th>\n",
       "      <td>13.24</td>\n",
       "      <td>13.76</td>\n",
       "    </tr>\n",
       "    <tr>\n",
       "      <th>3</th>\n",
       "      <td>12.07</td>\n",
       "      <td>12.28</td>\n",
       "    </tr>\n",
       "    <tr>\n",
       "      <th>4</th>\n",
       "      <td>12.43</td>\n",
       "      <td>12.28</td>\n",
       "    </tr>\n",
       "    <tr>\n",
       "      <th>5</th>\n",
       "      <td>12.37</td>\n",
       "      <td>12.28</td>\n",
       "    </tr>\n",
       "  </tbody>\n",
       "</table>\n",
       "</div>"
      ]
     },
     "execution_count": 24,
     "metadata": {},
     "output_type": "execute_result"
    }
   ],
   "execution_count": 24
  },
  {
   "cell_type": "markdown",
   "source": "Do you believe this is a reasonable replacement?",
   "metadata": {
    "id": "3sCyitsG8Uhl"
   }
  },
  {
   "cell_type": "markdown",
   "source": "#### **Linear Regression**",
   "metadata": {
    "id": "sF6IUv87GiUN"
   }
  },
  {
   "metadata": {},
   "cell_type": "markdown",
   "source": "A more advanced approach to imputing missing values is to use **linear regression**, to predict the missing value based on other available features."
  },
  {
   "metadata": {},
   "cell_type": "markdown",
   "source": [
    "In this case, a general linear model like this:\n",
    "\n",
    "                            𝚢 = α0 + α1*𝚇1 + α2*𝚇2 + ... αn*𝚇n\n",
    "\n",
    "Will be optimized to predict the missing values using the characteristics of the other features."
   ]
  },
  {
   "cell_type": "code",
   "source": [
    "# Where we randomly remove some values from the dataset to create a new dataset that reflects the problem of missing data\n",
    "random_idx = [0, 2, 4, 125, 126, 128]\n",
    "missing_dataset = copy.deepcopy(data_visual)\n",
    "missing_dataset.loc[random_idx, 'alcohol'] = -1\n",
    "missing_dataset"
   ],
   "metadata": {
    "id": "VaYEoo5cEz0L",
    "ExecuteTime": {
     "end_time": "2025-07-21T10:25:17.907987Z",
     "start_time": "2025-07-21T10:25:17.881988Z"
    }
   },
   "outputs": [
    {
     "data": {
      "text/plain": [
       "     alcohol  malic_acid   ash  alcalinity_of_ash  magnesium  total_phenols  \\\n",
       "0      -1.00        1.71  2.43               15.6      127.0           2.80   \n",
       "1      13.20        1.78  2.14               11.2      100.0           2.65   \n",
       "2      -1.00        2.36  2.67               18.6      101.0           2.80   \n",
       "3      14.37        1.95  2.50               16.8      113.0           3.85   \n",
       "4      -1.00        2.59  2.87               21.0      118.0           2.80   \n",
       "..       ...         ...   ...                ...        ...            ...   \n",
       "125    -1.00        2.16  2.17               21.0       85.0           2.60   \n",
       "126    -1.00        1.53  2.29               21.5       86.0           2.74   \n",
       "127    11.79        2.13  2.78               28.5       92.0           2.13   \n",
       "128    -1.00        1.63  2.30               24.5       88.0           2.22   \n",
       "129    12.04        4.30  2.38               22.0       80.0           2.10   \n",
       "\n",
       "     flavanoids  nonflavanoid_phenols  proanthocyanins  color_intensity   hue  \\\n",
       "0          3.06                  0.28             2.29             5.64  1.04   \n",
       "1          2.76                  0.26             1.28             4.38  1.05   \n",
       "2          3.24                  0.30             2.81             5.68  1.03   \n",
       "3          3.49                  0.24             2.18             7.80  0.86   \n",
       "4          2.69                  0.39             1.82             4.32  1.04   \n",
       "..          ...                   ...              ...              ...   ...   \n",
       "125        2.65                  0.37             1.35             2.76  0.86   \n",
       "126        3.15                  0.39             1.77             3.94  0.69   \n",
       "127        2.24                  0.58             1.76             3.00  0.97   \n",
       "128        2.45                  0.40             1.90             2.12  0.89   \n",
       "129        1.75                  0.42             1.35             2.60  0.79   \n",
       "\n",
       "     od280/od315_of_diluted_wines  proline  target  \n",
       "0                            3.92   1065.0       0  \n",
       "1                            3.40   1050.0       0  \n",
       "2                            3.17   1185.0       0  \n",
       "3                            3.45   1480.0       0  \n",
       "4                            2.93    735.0       0  \n",
       "..                            ...      ...     ...  \n",
       "125                          3.28    378.0       1  \n",
       "126                          2.84    352.0       1  \n",
       "127                          2.44    466.0       1  \n",
       "128                          2.78    342.0       1  \n",
       "129                          2.57    580.0       1  \n",
       "\n",
       "[130 rows x 14 columns]"
      ],
      "text/html": [
       "<div>\n",
       "<style scoped>\n",
       "    .dataframe tbody tr th:only-of-type {\n",
       "        vertical-align: middle;\n",
       "    }\n",
       "\n",
       "    .dataframe tbody tr th {\n",
       "        vertical-align: top;\n",
       "    }\n",
       "\n",
       "    .dataframe thead th {\n",
       "        text-align: right;\n",
       "    }\n",
       "</style>\n",
       "<table border=\"1\" class=\"dataframe\">\n",
       "  <thead>\n",
       "    <tr style=\"text-align: right;\">\n",
       "      <th></th>\n",
       "      <th>alcohol</th>\n",
       "      <th>malic_acid</th>\n",
       "      <th>ash</th>\n",
       "      <th>alcalinity_of_ash</th>\n",
       "      <th>magnesium</th>\n",
       "      <th>total_phenols</th>\n",
       "      <th>flavanoids</th>\n",
       "      <th>nonflavanoid_phenols</th>\n",
       "      <th>proanthocyanins</th>\n",
       "      <th>color_intensity</th>\n",
       "      <th>hue</th>\n",
       "      <th>od280/od315_of_diluted_wines</th>\n",
       "      <th>proline</th>\n",
       "      <th>target</th>\n",
       "    </tr>\n",
       "  </thead>\n",
       "  <tbody>\n",
       "    <tr>\n",
       "      <th>0</th>\n",
       "      <td>-1.00</td>\n",
       "      <td>1.71</td>\n",
       "      <td>2.43</td>\n",
       "      <td>15.6</td>\n",
       "      <td>127.0</td>\n",
       "      <td>2.80</td>\n",
       "      <td>3.06</td>\n",
       "      <td>0.28</td>\n",
       "      <td>2.29</td>\n",
       "      <td>5.64</td>\n",
       "      <td>1.04</td>\n",
       "      <td>3.92</td>\n",
       "      <td>1065.0</td>\n",
       "      <td>0</td>\n",
       "    </tr>\n",
       "    <tr>\n",
       "      <th>1</th>\n",
       "      <td>13.20</td>\n",
       "      <td>1.78</td>\n",
       "      <td>2.14</td>\n",
       "      <td>11.2</td>\n",
       "      <td>100.0</td>\n",
       "      <td>2.65</td>\n",
       "      <td>2.76</td>\n",
       "      <td>0.26</td>\n",
       "      <td>1.28</td>\n",
       "      <td>4.38</td>\n",
       "      <td>1.05</td>\n",
       "      <td>3.40</td>\n",
       "      <td>1050.0</td>\n",
       "      <td>0</td>\n",
       "    </tr>\n",
       "    <tr>\n",
       "      <th>2</th>\n",
       "      <td>-1.00</td>\n",
       "      <td>2.36</td>\n",
       "      <td>2.67</td>\n",
       "      <td>18.6</td>\n",
       "      <td>101.0</td>\n",
       "      <td>2.80</td>\n",
       "      <td>3.24</td>\n",
       "      <td>0.30</td>\n",
       "      <td>2.81</td>\n",
       "      <td>5.68</td>\n",
       "      <td>1.03</td>\n",
       "      <td>3.17</td>\n",
       "      <td>1185.0</td>\n",
       "      <td>0</td>\n",
       "    </tr>\n",
       "    <tr>\n",
       "      <th>3</th>\n",
       "      <td>14.37</td>\n",
       "      <td>1.95</td>\n",
       "      <td>2.50</td>\n",
       "      <td>16.8</td>\n",
       "      <td>113.0</td>\n",
       "      <td>3.85</td>\n",
       "      <td>3.49</td>\n",
       "      <td>0.24</td>\n",
       "      <td>2.18</td>\n",
       "      <td>7.80</td>\n",
       "      <td>0.86</td>\n",
       "      <td>3.45</td>\n",
       "      <td>1480.0</td>\n",
       "      <td>0</td>\n",
       "    </tr>\n",
       "    <tr>\n",
       "      <th>4</th>\n",
       "      <td>-1.00</td>\n",
       "      <td>2.59</td>\n",
       "      <td>2.87</td>\n",
       "      <td>21.0</td>\n",
       "      <td>118.0</td>\n",
       "      <td>2.80</td>\n",
       "      <td>2.69</td>\n",
       "      <td>0.39</td>\n",
       "      <td>1.82</td>\n",
       "      <td>4.32</td>\n",
       "      <td>1.04</td>\n",
       "      <td>2.93</td>\n",
       "      <td>735.0</td>\n",
       "      <td>0</td>\n",
       "    </tr>\n",
       "    <tr>\n",
       "      <th>...</th>\n",
       "      <td>...</td>\n",
       "      <td>...</td>\n",
       "      <td>...</td>\n",
       "      <td>...</td>\n",
       "      <td>...</td>\n",
       "      <td>...</td>\n",
       "      <td>...</td>\n",
       "      <td>...</td>\n",
       "      <td>...</td>\n",
       "      <td>...</td>\n",
       "      <td>...</td>\n",
       "      <td>...</td>\n",
       "      <td>...</td>\n",
       "      <td>...</td>\n",
       "    </tr>\n",
       "    <tr>\n",
       "      <th>125</th>\n",
       "      <td>-1.00</td>\n",
       "      <td>2.16</td>\n",
       "      <td>2.17</td>\n",
       "      <td>21.0</td>\n",
       "      <td>85.0</td>\n",
       "      <td>2.60</td>\n",
       "      <td>2.65</td>\n",
       "      <td>0.37</td>\n",
       "      <td>1.35</td>\n",
       "      <td>2.76</td>\n",
       "      <td>0.86</td>\n",
       "      <td>3.28</td>\n",
       "      <td>378.0</td>\n",
       "      <td>1</td>\n",
       "    </tr>\n",
       "    <tr>\n",
       "      <th>126</th>\n",
       "      <td>-1.00</td>\n",
       "      <td>1.53</td>\n",
       "      <td>2.29</td>\n",
       "      <td>21.5</td>\n",
       "      <td>86.0</td>\n",
       "      <td>2.74</td>\n",
       "      <td>3.15</td>\n",
       "      <td>0.39</td>\n",
       "      <td>1.77</td>\n",
       "      <td>3.94</td>\n",
       "      <td>0.69</td>\n",
       "      <td>2.84</td>\n",
       "      <td>352.0</td>\n",
       "      <td>1</td>\n",
       "    </tr>\n",
       "    <tr>\n",
       "      <th>127</th>\n",
       "      <td>11.79</td>\n",
       "      <td>2.13</td>\n",
       "      <td>2.78</td>\n",
       "      <td>28.5</td>\n",
       "      <td>92.0</td>\n",
       "      <td>2.13</td>\n",
       "      <td>2.24</td>\n",
       "      <td>0.58</td>\n",
       "      <td>1.76</td>\n",
       "      <td>3.00</td>\n",
       "      <td>0.97</td>\n",
       "      <td>2.44</td>\n",
       "      <td>466.0</td>\n",
       "      <td>1</td>\n",
       "    </tr>\n",
       "    <tr>\n",
       "      <th>128</th>\n",
       "      <td>-1.00</td>\n",
       "      <td>1.63</td>\n",
       "      <td>2.30</td>\n",
       "      <td>24.5</td>\n",
       "      <td>88.0</td>\n",
       "      <td>2.22</td>\n",
       "      <td>2.45</td>\n",
       "      <td>0.40</td>\n",
       "      <td>1.90</td>\n",
       "      <td>2.12</td>\n",
       "      <td>0.89</td>\n",
       "      <td>2.78</td>\n",
       "      <td>342.0</td>\n",
       "      <td>1</td>\n",
       "    </tr>\n",
       "    <tr>\n",
       "      <th>129</th>\n",
       "      <td>12.04</td>\n",
       "      <td>4.30</td>\n",
       "      <td>2.38</td>\n",
       "      <td>22.0</td>\n",
       "      <td>80.0</td>\n",
       "      <td>2.10</td>\n",
       "      <td>1.75</td>\n",
       "      <td>0.42</td>\n",
       "      <td>1.35</td>\n",
       "      <td>2.60</td>\n",
       "      <td>0.79</td>\n",
       "      <td>2.57</td>\n",
       "      <td>580.0</td>\n",
       "      <td>1</td>\n",
       "    </tr>\n",
       "  </tbody>\n",
       "</table>\n",
       "<p>130 rows × 14 columns</p>\n",
       "</div>"
      ]
     },
     "execution_count": 44,
     "metadata": {},
     "output_type": "execute_result"
    }
   ],
   "execution_count": 44
  },
  {
   "cell_type": "markdown",
   "source": "Like with the previous example we start by diving the dataset by the two target classes. This helps preserve the variability present within each target class.",
   "metadata": {
    "id": "aCtLIkpGw15G"
   }
  },
  {
   "cell_type": "code",
   "source": [
    "from sklearn.linear_model import LinearRegression\n",
    "\n",
    "data_class_0 = missing_dataset[missing_dataset['target'] == 0]\n",
    "data_class_1 = missing_dataset[missing_dataset['target'] == 1]"
   ],
   "metadata": {
    "id": "Q63zfKU6vLGT",
    "ExecuteTime": {
     "end_time": "2025-07-21T10:25:21.167421Z",
     "start_time": "2025-07-21T10:25:21.155272Z"
    }
   },
   "outputs": [],
   "execution_count": 45
  },
  {
   "cell_type": "markdown",
   "source": [
    "For each target class, a ***linear regression*** will be optimized to impute the most probable value for the missing features.\n",
    "\n",
    "\n",
    "In this case the variable 𝚢 will be our missing feature data *alcohol* and the remainder values from the other features will be 𝚇."
   ],
   "metadata": {
    "id": "GbZZgxhhxNsh"
   }
  },
  {
   "cell_type": "markdown",
   "source": "**Target 0**",
   "metadata": {
    "id": "e4u6lBSbxJ5L"
   }
  },
  {
   "metadata": {},
   "cell_type": "markdown",
   "source": [
    "We start by selecting only the data that is essential for the construction of the ***linear regression*** for the target class 0.\n",
    "\n",
    "**Note that**:\n",
    "\n",
    "We also have to exclude the target from 𝚇."
   ]
  },
  {
   "cell_type": "code",
   "source": [
    "y_class_0 = data_class_0[data_class_0['alcohol'] != -1]['alcohol']\n",
    "x_class_0 = data_class_0[data_class_0['alcohol'] != -1]\n",
    "x_class_0 = x_class_0.drop(['alcohol', 'target'], axis=1).to_numpy()"
   ],
   "metadata": {
    "id": "z-l6CllxxyOJ",
    "ExecuteTime": {
     "end_time": "2025-07-21T10:25:22.565134Z",
     "start_time": "2025-07-21T10:25:22.557105Z"
    }
   },
   "outputs": [],
   "execution_count": 46
  },
  {
   "cell_type": "code",
   "source": [
    "reg_class_0 = LinearRegression().fit(x_class_0, y_class_0)"
   ],
   "metadata": {
    "id": "dq7FdauezZoC",
    "ExecuteTime": {
     "end_time": "2025-07-21T10:25:22.945084Z",
     "start_time": "2025-07-21T10:25:22.932086Z"
    }
   },
   "outputs": [],
   "execution_count": 47
  },
  {
   "cell_type": "markdown",
   "source": [
    "After training the linear regression model, we can inspect the **regression coefficients** (also called weights or alpha values).\n",
    "\n",
    "These coefficients tell us how much each input feature contributes to the prediction of the target feature. A higher absolute value means that the feature has a stronger influence.\n",
    "\n",
    "Let’s display them:"
   ],
   "metadata": {
    "id": "ovR9ZKdG0-6x"
   }
  },
  {
   "cell_type": "code",
   "source": [
    "reg_class_0.coef_"
   ],
   "metadata": {
    "id": "N29b7s761DX1",
    "colab": {
     "base_uri": "https://localhost:8080/"
    },
    "executionInfo": {
     "status": "ok",
     "timestamp": 1721726288969,
     "user_tz": -60,
     "elapsed": 13,
     "user": {
      "displayName": "Daniel Agostinho",
      "userId": "10010588641999371336"
     }
    },
    "outputId": "657ccdf4-a7a0-4389-83a2-61cb8b007317",
    "ExecuteTime": {
     "end_time": "2025-07-21T10:25:24.156212Z",
     "start_time": "2025-07-21T10:25:24.138052Z"
    }
   },
   "outputs": [
    {
     "data": {
      "text/plain": [
       "array([ 1.06685547e-01, -2.42339591e-01, -3.72536524e-02,  1.00617725e-02,\n",
       "        3.28066241e-02,  1.19808782e-01,  1.44268592e+00,  3.09836756e-01,\n",
       "       -1.91167328e-02,  1.55783961e-02,  2.65263637e-01,  9.24818982e-04])"
      ]
     },
     "execution_count": 48,
     "metadata": {},
     "output_type": "execute_result"
    }
   ],
   "execution_count": 48
  },
  {
   "cell_type": "markdown",
   "source": [
    "\n",
    "You can also visualize α0, which is commonly known as intercept or bias term:\n"
   ],
   "metadata": {
    "id": "QHjZR-OL1Maw"
   }
  },
  {
   "cell_type": "code",
   "source": "reg_class_0.intercept_",
   "metadata": {
    "id": "4LFWoIok1UXn",
    "colab": {
     "base_uri": "https://localhost:8080/"
    },
    "executionInfo": {
     "status": "ok",
     "timestamp": 1721726291223,
     "user_tz": -60,
     "elapsed": 272,
     "user": {
      "displayName": "Daniel Agostinho",
      "userId": "10010588641999371336"
     }
    },
    "outputId": "27a79d62-b696-48ba-c5f8-71b2196e33e4",
    "ExecuteTime": {
     "end_time": "2025-07-21T10:25:25.245552Z",
     "start_time": "2025-07-21T10:25:25.239536Z"
    }
   },
   "outputs": [
    {
     "data": {
      "text/plain": [
       "np.float64(10.470147313187747)"
      ]
     },
     "execution_count": 49,
     "metadata": {},
     "output_type": "execute_result"
    }
   ],
   "execution_count": 49
  },
  {
   "cell_type": "markdown",
   "source": "Now that you have optimized the ***linear model***, you can now use it to infer what is the probable value for your missing cases:",
   "metadata": {
    "id": "JL6z5uir1fVd"
   }
  },
  {
   "cell_type": "code",
   "source": [
    "missing_x_class_0 = data_class_0[data_class_0['alcohol'] == -1]\n",
    "missing_x_class_0 = missing_x_class_0.drop(['alcohol', 'target'], axis=1).to_numpy()\n",
    "\n",
    "missing_y_class_0 = reg_class_0.predict(missing_x_class_0).round(2) # We round the predicted numbers to the 2 decimal case to keep in line with the original values\n",
    "missing_y_class_0"
   ],
   "metadata": {
    "id": "C2EoE1bR1oFo",
    "colab": {
     "base_uri": "https://localhost:8080/"
    },
    "executionInfo": {
     "status": "ok",
     "timestamp": 1721726293608,
     "user_tz": -60,
     "elapsed": 292,
     "user": {
      "displayName": "Daniel Agostinho",
      "userId": "10010588641999371336"
     }
    },
    "outputId": "164fa42a-dc21-4895-cb94-0acdc0aeccaf",
    "ExecuteTime": {
     "end_time": "2025-07-21T10:25:26.367575Z",
     "start_time": "2025-07-21T10:25:26.360576Z"
    }
   },
   "outputs": [
    {
     "data": {
      "text/plain": [
       "array([14.27, 14.03, 13.39])"
      ]
     },
     "execution_count": 50,
     "metadata": {},
     "output_type": "execute_result"
    }
   ],
   "execution_count": 50
  },
  {
   "cell_type": "markdown",
   "source": "Updating the missing values into the original dataset we get:",
   "metadata": {
    "id": "yLEu4Skh2PCh"
   }
  },
  {
   "cell_type": "code",
   "source": [
    "missing_dataset.loc[(missing_dataset['target'] == 0) & (missing_dataset['alcohol'] == -1), 'alcohol'] = missing_y_class_0\n",
    "missing_dataset"
   ],
   "metadata": {
    "id": "VIDPRVGB2Tit",
    "colab": {
     "base_uri": "https://localhost:8080/",
     "height": 443
    },
    "executionInfo": {
     "status": "ok",
     "timestamp": 1721726295603,
     "user_tz": -60,
     "elapsed": 269,
     "user": {
      "displayName": "Daniel Agostinho",
      "userId": "10010588641999371336"
     }
    },
    "outputId": "2aaaa04b-5838-4b02-f915-0fc9be0ca85e",
    "ExecuteTime": {
     "end_time": "2025-07-21T10:25:27.856803Z",
     "start_time": "2025-07-21T10:25:27.823772Z"
    }
   },
   "outputs": [
    {
     "data": {
      "text/plain": [
       "     alcohol  malic_acid   ash  alcalinity_of_ash  magnesium  total_phenols  \\\n",
       "0      14.27        1.71  2.43               15.6      127.0           2.80   \n",
       "1      13.20        1.78  2.14               11.2      100.0           2.65   \n",
       "2      14.03        2.36  2.67               18.6      101.0           2.80   \n",
       "3      14.37        1.95  2.50               16.8      113.0           3.85   \n",
       "4      13.39        2.59  2.87               21.0      118.0           2.80   \n",
       "..       ...         ...   ...                ...        ...            ...   \n",
       "125    -1.00        2.16  2.17               21.0       85.0           2.60   \n",
       "126    -1.00        1.53  2.29               21.5       86.0           2.74   \n",
       "127    11.79        2.13  2.78               28.5       92.0           2.13   \n",
       "128    -1.00        1.63  2.30               24.5       88.0           2.22   \n",
       "129    12.04        4.30  2.38               22.0       80.0           2.10   \n",
       "\n",
       "     flavanoids  nonflavanoid_phenols  proanthocyanins  color_intensity   hue  \\\n",
       "0          3.06                  0.28             2.29             5.64  1.04   \n",
       "1          2.76                  0.26             1.28             4.38  1.05   \n",
       "2          3.24                  0.30             2.81             5.68  1.03   \n",
       "3          3.49                  0.24             2.18             7.80  0.86   \n",
       "4          2.69                  0.39             1.82             4.32  1.04   \n",
       "..          ...                   ...              ...              ...   ...   \n",
       "125        2.65                  0.37             1.35             2.76  0.86   \n",
       "126        3.15                  0.39             1.77             3.94  0.69   \n",
       "127        2.24                  0.58             1.76             3.00  0.97   \n",
       "128        2.45                  0.40             1.90             2.12  0.89   \n",
       "129        1.75                  0.42             1.35             2.60  0.79   \n",
       "\n",
       "     od280/od315_of_diluted_wines  proline  target  \n",
       "0                            3.92   1065.0       0  \n",
       "1                            3.40   1050.0       0  \n",
       "2                            3.17   1185.0       0  \n",
       "3                            3.45   1480.0       0  \n",
       "4                            2.93    735.0       0  \n",
       "..                            ...      ...     ...  \n",
       "125                          3.28    378.0       1  \n",
       "126                          2.84    352.0       1  \n",
       "127                          2.44    466.0       1  \n",
       "128                          2.78    342.0       1  \n",
       "129                          2.57    580.0       1  \n",
       "\n",
       "[130 rows x 14 columns]"
      ],
      "text/html": [
       "<div>\n",
       "<style scoped>\n",
       "    .dataframe tbody tr th:only-of-type {\n",
       "        vertical-align: middle;\n",
       "    }\n",
       "\n",
       "    .dataframe tbody tr th {\n",
       "        vertical-align: top;\n",
       "    }\n",
       "\n",
       "    .dataframe thead th {\n",
       "        text-align: right;\n",
       "    }\n",
       "</style>\n",
       "<table border=\"1\" class=\"dataframe\">\n",
       "  <thead>\n",
       "    <tr style=\"text-align: right;\">\n",
       "      <th></th>\n",
       "      <th>alcohol</th>\n",
       "      <th>malic_acid</th>\n",
       "      <th>ash</th>\n",
       "      <th>alcalinity_of_ash</th>\n",
       "      <th>magnesium</th>\n",
       "      <th>total_phenols</th>\n",
       "      <th>flavanoids</th>\n",
       "      <th>nonflavanoid_phenols</th>\n",
       "      <th>proanthocyanins</th>\n",
       "      <th>color_intensity</th>\n",
       "      <th>hue</th>\n",
       "      <th>od280/od315_of_diluted_wines</th>\n",
       "      <th>proline</th>\n",
       "      <th>target</th>\n",
       "    </tr>\n",
       "  </thead>\n",
       "  <tbody>\n",
       "    <tr>\n",
       "      <th>0</th>\n",
       "      <td>14.27</td>\n",
       "      <td>1.71</td>\n",
       "      <td>2.43</td>\n",
       "      <td>15.6</td>\n",
       "      <td>127.0</td>\n",
       "      <td>2.80</td>\n",
       "      <td>3.06</td>\n",
       "      <td>0.28</td>\n",
       "      <td>2.29</td>\n",
       "      <td>5.64</td>\n",
       "      <td>1.04</td>\n",
       "      <td>3.92</td>\n",
       "      <td>1065.0</td>\n",
       "      <td>0</td>\n",
       "    </tr>\n",
       "    <tr>\n",
       "      <th>1</th>\n",
       "      <td>13.20</td>\n",
       "      <td>1.78</td>\n",
       "      <td>2.14</td>\n",
       "      <td>11.2</td>\n",
       "      <td>100.0</td>\n",
       "      <td>2.65</td>\n",
       "      <td>2.76</td>\n",
       "      <td>0.26</td>\n",
       "      <td>1.28</td>\n",
       "      <td>4.38</td>\n",
       "      <td>1.05</td>\n",
       "      <td>3.40</td>\n",
       "      <td>1050.0</td>\n",
       "      <td>0</td>\n",
       "    </tr>\n",
       "    <tr>\n",
       "      <th>2</th>\n",
       "      <td>14.03</td>\n",
       "      <td>2.36</td>\n",
       "      <td>2.67</td>\n",
       "      <td>18.6</td>\n",
       "      <td>101.0</td>\n",
       "      <td>2.80</td>\n",
       "      <td>3.24</td>\n",
       "      <td>0.30</td>\n",
       "      <td>2.81</td>\n",
       "      <td>5.68</td>\n",
       "      <td>1.03</td>\n",
       "      <td>3.17</td>\n",
       "      <td>1185.0</td>\n",
       "      <td>0</td>\n",
       "    </tr>\n",
       "    <tr>\n",
       "      <th>3</th>\n",
       "      <td>14.37</td>\n",
       "      <td>1.95</td>\n",
       "      <td>2.50</td>\n",
       "      <td>16.8</td>\n",
       "      <td>113.0</td>\n",
       "      <td>3.85</td>\n",
       "      <td>3.49</td>\n",
       "      <td>0.24</td>\n",
       "      <td>2.18</td>\n",
       "      <td>7.80</td>\n",
       "      <td>0.86</td>\n",
       "      <td>3.45</td>\n",
       "      <td>1480.0</td>\n",
       "      <td>0</td>\n",
       "    </tr>\n",
       "    <tr>\n",
       "      <th>4</th>\n",
       "      <td>13.39</td>\n",
       "      <td>2.59</td>\n",
       "      <td>2.87</td>\n",
       "      <td>21.0</td>\n",
       "      <td>118.0</td>\n",
       "      <td>2.80</td>\n",
       "      <td>2.69</td>\n",
       "      <td>0.39</td>\n",
       "      <td>1.82</td>\n",
       "      <td>4.32</td>\n",
       "      <td>1.04</td>\n",
       "      <td>2.93</td>\n",
       "      <td>735.0</td>\n",
       "      <td>0</td>\n",
       "    </tr>\n",
       "    <tr>\n",
       "      <th>...</th>\n",
       "      <td>...</td>\n",
       "      <td>...</td>\n",
       "      <td>...</td>\n",
       "      <td>...</td>\n",
       "      <td>...</td>\n",
       "      <td>...</td>\n",
       "      <td>...</td>\n",
       "      <td>...</td>\n",
       "      <td>...</td>\n",
       "      <td>...</td>\n",
       "      <td>...</td>\n",
       "      <td>...</td>\n",
       "      <td>...</td>\n",
       "      <td>...</td>\n",
       "    </tr>\n",
       "    <tr>\n",
       "      <th>125</th>\n",
       "      <td>-1.00</td>\n",
       "      <td>2.16</td>\n",
       "      <td>2.17</td>\n",
       "      <td>21.0</td>\n",
       "      <td>85.0</td>\n",
       "      <td>2.60</td>\n",
       "      <td>2.65</td>\n",
       "      <td>0.37</td>\n",
       "      <td>1.35</td>\n",
       "      <td>2.76</td>\n",
       "      <td>0.86</td>\n",
       "      <td>3.28</td>\n",
       "      <td>378.0</td>\n",
       "      <td>1</td>\n",
       "    </tr>\n",
       "    <tr>\n",
       "      <th>126</th>\n",
       "      <td>-1.00</td>\n",
       "      <td>1.53</td>\n",
       "      <td>2.29</td>\n",
       "      <td>21.5</td>\n",
       "      <td>86.0</td>\n",
       "      <td>2.74</td>\n",
       "      <td>3.15</td>\n",
       "      <td>0.39</td>\n",
       "      <td>1.77</td>\n",
       "      <td>3.94</td>\n",
       "      <td>0.69</td>\n",
       "      <td>2.84</td>\n",
       "      <td>352.0</td>\n",
       "      <td>1</td>\n",
       "    </tr>\n",
       "    <tr>\n",
       "      <th>127</th>\n",
       "      <td>11.79</td>\n",
       "      <td>2.13</td>\n",
       "      <td>2.78</td>\n",
       "      <td>28.5</td>\n",
       "      <td>92.0</td>\n",
       "      <td>2.13</td>\n",
       "      <td>2.24</td>\n",
       "      <td>0.58</td>\n",
       "      <td>1.76</td>\n",
       "      <td>3.00</td>\n",
       "      <td>0.97</td>\n",
       "      <td>2.44</td>\n",
       "      <td>466.0</td>\n",
       "      <td>1</td>\n",
       "    </tr>\n",
       "    <tr>\n",
       "      <th>128</th>\n",
       "      <td>-1.00</td>\n",
       "      <td>1.63</td>\n",
       "      <td>2.30</td>\n",
       "      <td>24.5</td>\n",
       "      <td>88.0</td>\n",
       "      <td>2.22</td>\n",
       "      <td>2.45</td>\n",
       "      <td>0.40</td>\n",
       "      <td>1.90</td>\n",
       "      <td>2.12</td>\n",
       "      <td>0.89</td>\n",
       "      <td>2.78</td>\n",
       "      <td>342.0</td>\n",
       "      <td>1</td>\n",
       "    </tr>\n",
       "    <tr>\n",
       "      <th>129</th>\n",
       "      <td>12.04</td>\n",
       "      <td>4.30</td>\n",
       "      <td>2.38</td>\n",
       "      <td>22.0</td>\n",
       "      <td>80.0</td>\n",
       "      <td>2.10</td>\n",
       "      <td>1.75</td>\n",
       "      <td>0.42</td>\n",
       "      <td>1.35</td>\n",
       "      <td>2.60</td>\n",
       "      <td>0.79</td>\n",
       "      <td>2.57</td>\n",
       "      <td>580.0</td>\n",
       "      <td>1</td>\n",
       "    </tr>\n",
       "  </tbody>\n",
       "</table>\n",
       "<p>130 rows × 14 columns</p>\n",
       "</div>"
      ]
     },
     "execution_count": 51,
     "metadata": {},
     "output_type": "execute_result"
    }
   ],
   "execution_count": 51
  },
  {
   "cell_type": "markdown",
   "source": "##### **Exercise:**\n",
   "metadata": {
    "id": "pyShrnGd4ZRn"
   }
  },
  {
   "cell_type": "markdown",
   "source": "Using the previous logic, we challenge you to use the ***linear regression*** approach to impute the missing values for the target clase 1.",
   "metadata": {
    "id": "exZKJZvY4jPE"
   }
  },
  {
   "cell_type": "code",
   "source": "# Do your logic here",
   "metadata": {
    "id": "k2u240HZ4uGo"
   },
   "execution_count": null,
   "outputs": []
  },
  {
   "cell_type": "markdown",
   "source": "Let's now compare the values:",
   "metadata": {
    "id": "K_rX8t2T8oH9"
   }
  },
  {
   "cell_type": "code",
   "source": [
    "true_data = data_visual.loc[random_idx, 'alcohol'].to_numpy()\n",
    "imputed_data = missing_dataset.loc[random_idx, 'alcohol'].to_numpy()\n",
    "\n",
    "pd.DataFrame(np.vstack((true_data, imputed_data)).transpose(), columns=['Real Data', 'Imputed Data'])"
   ],
   "metadata": {
    "id": "g4H8syV88oIC",
    "ExecuteTime": {
     "end_time": "2025-07-21T10:28:27.135435Z",
     "start_time": "2025-07-21T10:28:27.124434Z"
    }
   },
   "outputs": [
    {
     "data": {
      "text/plain": [
       "   Real Data  Imputed Data\n",
       "0      14.23         14.27\n",
       "1      13.16         14.03\n",
       "2      13.24         13.39\n",
       "3      12.07         -1.00\n",
       "4      12.43         -1.00\n",
       "5      12.37         -1.00"
      ],
      "text/html": [
       "<div>\n",
       "<style scoped>\n",
       "    .dataframe tbody tr th:only-of-type {\n",
       "        vertical-align: middle;\n",
       "    }\n",
       "\n",
       "    .dataframe tbody tr th {\n",
       "        vertical-align: top;\n",
       "    }\n",
       "\n",
       "    .dataframe thead th {\n",
       "        text-align: right;\n",
       "    }\n",
       "</style>\n",
       "<table border=\"1\" class=\"dataframe\">\n",
       "  <thead>\n",
       "    <tr style=\"text-align: right;\">\n",
       "      <th></th>\n",
       "      <th>Real Data</th>\n",
       "      <th>Imputed Data</th>\n",
       "    </tr>\n",
       "  </thead>\n",
       "  <tbody>\n",
       "    <tr>\n",
       "      <th>0</th>\n",
       "      <td>14.23</td>\n",
       "      <td>14.27</td>\n",
       "    </tr>\n",
       "    <tr>\n",
       "      <th>1</th>\n",
       "      <td>13.16</td>\n",
       "      <td>14.03</td>\n",
       "    </tr>\n",
       "    <tr>\n",
       "      <th>2</th>\n",
       "      <td>13.24</td>\n",
       "      <td>13.39</td>\n",
       "    </tr>\n",
       "    <tr>\n",
       "      <th>3</th>\n",
       "      <td>12.07</td>\n",
       "      <td>-1.00</td>\n",
       "    </tr>\n",
       "    <tr>\n",
       "      <th>4</th>\n",
       "      <td>12.43</td>\n",
       "      <td>-1.00</td>\n",
       "    </tr>\n",
       "    <tr>\n",
       "      <th>5</th>\n",
       "      <td>12.37</td>\n",
       "      <td>-1.00</td>\n",
       "    </tr>\n",
       "  </tbody>\n",
       "</table>\n",
       "</div>"
      ]
     },
     "execution_count": 53,
     "metadata": {},
     "output_type": "execute_result"
    }
   ],
   "execution_count": 53
  },
  {
   "cell_type": "markdown",
   "source": "## Feature Engineering",
   "metadata": {
    "id": "4dCRy5SnmQbl"
   }
  },
  {
   "metadata": {},
   "cell_type": "markdown",
   "source": [
    "With a complete dataset, we can move to another important step in the data science workflow, **feature engineering**.\n",
    "\n",
    "Feature engineering refers to the process of transforming, creating, or selecting features in your dataset to improve model performance or make the data more suitable for analysis."
   ]
  },
  {
   "metadata": {},
   "cell_type": "markdown",
   "source": [
    "Raw data can be reshaped or re-expressed in order to:\n",
    "\n",
    "- Improve model performance\n",
    "- Make patterns in the data more visible\n",
    "- Reduce noise or irrelevant information"
   ]
  },
  {
   "cell_type": "markdown",
   "source": "Consider the following example, where a new features is created using the ration of two preexisting features, *hue* and *proline*.",
   "metadata": {
    "id": "EXntZFCnngF8"
   }
  },
  {
   "cell_type": "code",
   "source": [
    "dataset['new_var'] = dataset['hue'] / dataset['proline']\n",
    "\n",
    "plt.scatter(dataset.loc[dataset['target'] == 0, 'alcohol'], dataset.loc[dataset['target'] == 0,'new_var'], label='Class 0')\n",
    "plt.scatter(dataset.loc[dataset['target'] == 1,'alcohol'], dataset.loc[dataset['target'] == 1,'new_var'], label='Class 1')\n",
    "\n",
    "plt.ylabel(\"New Feature\")\n",
    "plt.xlabel(\"alcohol\")\n",
    "plt.legend(loc=\"lower right\")"
   ],
   "metadata": {
    "id": "QdirvS_9mUtI",
    "colab": {
     "base_uri": "https://localhost:8080/",
     "height": 497
    },
    "executionInfo": {
     "status": "ok",
     "timestamp": 1721727685138,
     "user_tz": -60,
     "elapsed": 1206,
     "user": {
      "displayName": "Daniel Agostinho",
      "userId": "10010588641999371336"
     }
    },
    "outputId": "d7cd75bb-6a6e-4bdc-9588-b22978e02d67",
    "ExecuteTime": {
     "end_time": "2025-07-21T10:35:57.586331Z",
     "start_time": "2025-07-21T10:35:57.275360Z"
    }
   },
   "outputs": [
    {
     "data": {
      "text/plain": [
       "<matplotlib.legend.Legend at 0x1fd128d7220>"
      ]
     },
     "execution_count": 54,
     "metadata": {},
     "output_type": "execute_result"
    },
    {
     "data": {
      "text/plain": [
       "<Figure size 1600x800 with 1 Axes>"
      ],
      "image/png": "[encoded data removed]"
     },
     "metadata": {},
     "output_type": "display_data"
    }
   ],
   "execution_count": 54
  },
  {
   "cell_type": "markdown",
   "source": "This new feature allows us to find a particular good characteristic, that when combined with the *alcohol* feature allows for an almost complete separation between the two classes.",
   "metadata": {
    "id": "qtXrEVmgn1Vh"
   }
  },
  {
   "cell_type": "code",
   "source": [
    "# Don't run\n",
    "img = plt.imread('new_var.png')\n",
    "plt.imshow(img)\n",
    "plt.axis('off')"
   ],
   "metadata": {
    "id": "uAXsus2J9KNE",
    "colab": {
     "base_uri": "https://localhost:8080/",
     "height": 720
    },
    "executionInfo": {
     "status": "ok",
     "timestamp": 1721679400800,
     "user_tz": -60,
     "elapsed": 3098,
     "user": {
      "displayName": "Daniel Agostinho",
      "userId": "10010588641999371336"
     }
    },
    "outputId": "55b258c5-52ea-4010-fc7a-265c2dba8f5e",
    "ExecuteTime": {
     "end_time": "2025-07-21T10:38:54.740392Z",
     "start_time": "2025-07-21T10:38:53.353810Z"
    }
   },
   "outputs": [
    {
     "data": {
      "text/plain": [
       "(np.float64(-0.5), np.float64(1985.5), np.float64(1112.5), np.float64(-0.5))"
      ]
     },
     "execution_count": 55,
     "metadata": {},
     "output_type": "execute_result"
    },
    {
     "data": {
      "text/plain": [
       "<Figure size 1600x800 with 1 Axes>"
      ],
      "image/png": "[encoded data removed]"
     },
     "metadata": {},
     "output_type": "display_data"
    }
   ],
   "execution_count": 55
  },
  {
   "cell_type": "markdown",
   "source": "We now would like to challenge you to explore different combinations and explore the dataset. You can use feature engineering as well as data visualization to explore and hypothesize the best approach to distinguish between the two classes.",
   "metadata": {
    "id": "ojPPFwHa9p3k"
   }
  },
  {
   "metadata": {
    "ExecuteTime": {
     "end_time": "2025-07-21T10:44:21.390845Z",
     "start_time": "2025-07-21T10:44:21.184844Z"
    }
   },
   "cell_type": "code",
   "source": [
    "# Use this code snipit to explore the dataset\n",
    "fe_feature_1 = \"hue\"\n",
    "fe_feature_2 = \"proline\"\n",
    "\n",
    "dataset['new_var'] = dataset[fe_feature_1] / dataset[fe_feature_2]\n",
    "\n",
    "plot_x_feature = \"alcohol\"\n",
    "plot_y_feature = \"new_var\"\n",
    "\n",
    "plt.scatter(dataset.loc[dataset['target'] == 0, plot_x_feature], dataset.loc[dataset['target'] == 0, plot_y_feature], label='Class 0')\n",
    "plt.scatter(dataset.loc[dataset['target'] == 1,plot_x_feature], dataset.loc[dataset['target'] == 1, plot_y_feature], label='Class 1')\n",
    "\n",
    "plt.xlabel(plot_x_feature)\n",
    "plt.ylabel(plot_y_feature)\n",
    "plt.legend(loc=\"lower right\")"
   ],
   "outputs": [
    {
     "data": {
      "text/plain": [
       "<matplotlib.legend.Legend at 0x1fd1ae13940>"
      ]
     },
     "execution_count": 57,
     "metadata": {},
     "output_type": "execute_result"
    },
    {
     "data": {
      "text/plain": [
       "<Figure size 1600x800 with 1 Axes>"
      ],
      "image/png": "[encoded data removed]"
     },
     "metadata": {},
     "output_type": "display_data"
    }
   ],
   "execution_count": 57
  },
  {
   "cell_type": "markdown",
   "source": "## Modeling",
   "metadata": {
    "id": "n_mAyZPOmYo8"
   }
  },
  {
   "metadata": {},
   "cell_type": "markdown",
   "source": [
    "Now that our data is cleaned and properly transformed, we can move on to the **modeling stage** of the data science workflow.\n",
    "\n",
    "This is where we use **machine learning algorithms** or **statistical models** to learn patterns from the data and make predictions.\n",
    "\n",
    "In our case, the goal is to build a simple **classifier** that predicts the **wine producer** based on some combination of the 13 chemical features of each wine.\n"
   ]
  },
  {
   "cell_type": "markdown",
   "source": [
    "You might want to start with a simple and interpretable model first.\n",
    "In this example we will implement a simple decision tree using the previous rule that we found using the ***alcohol***, and the ration between ***hue*** and ***proline***.\n"
   ],
   "metadata": {
    "id": "69W8kUZQADdL"
   }
  },
  {
   "cell_type": "code",
   "source": [
    "dataset['new_var'] = dataset['hue'] / dataset['proline'] # Just to ensure that the new var is set to the desired ratio\n",
    "small_dataset = dataset.loc[:, ['alcohol', 'new_var', 'target']]\n",
    "small_dataset"
   ],
   "metadata": {
    "id": "xG0dMrxImdfg",
    "colab": {
     "base_uri": "https://localhost:8080/",
     "height": 423
    },
    "executionInfo": {
     "status": "ok",
     "timestamp": 1721727945981,
     "user_tz": -60,
     "elapsed": 16,
     "user": {
      "displayName": "Daniel Agostinho",
      "userId": "10010588641999371336"
     }
    },
    "outputId": "698a4753-7998-4f51-ed13-fb65688afb75",
    "ExecuteTime": {
     "end_time": "2025-07-21T10:51:01.682997Z",
     "start_time": "2025-07-21T10:51:01.656890Z"
    }
   },
   "outputs": [
    {
     "data": {
      "text/plain": [
       "     alcohol   new_var  target\n",
       "0      14.23  0.000977       0\n",
       "1      13.20  0.001000       0\n",
       "2      13.16  0.000869       0\n",
       "3      14.37  0.000581       0\n",
       "4      13.24  0.001415       0\n",
       "..       ...       ...     ...\n",
       "125    12.07  0.002275       1\n",
       "126    12.43  0.001960       1\n",
       "127    11.79  0.002082       1\n",
       "128    12.37  0.002602       1\n",
       "129    12.04  0.001362       1\n",
       "\n",
       "[130 rows x 3 columns]"
      ],
      "text/html": [
       "<div>\n",
       "<style scoped>\n",
       "    .dataframe tbody tr th:only-of-type {\n",
       "        vertical-align: middle;\n",
       "    }\n",
       "\n",
       "    .dataframe tbody tr th {\n",
       "        vertical-align: top;\n",
       "    }\n",
       "\n",
       "    .dataframe thead th {\n",
       "        text-align: right;\n",
       "    }\n",
       "</style>\n",
       "<table border=\"1\" class=\"dataframe\">\n",
       "  <thead>\n",
       "    <tr style=\"text-align: right;\">\n",
       "      <th></th>\n",
       "      <th>alcohol</th>\n",
       "      <th>new_var</th>\n",
       "      <th>target</th>\n",
       "    </tr>\n",
       "  </thead>\n",
       "  <tbody>\n",
       "    <tr>\n",
       "      <th>0</th>\n",
       "      <td>14.23</td>\n",
       "      <td>0.000977</td>\n",
       "      <td>0</td>\n",
       "    </tr>\n",
       "    <tr>\n",
       "      <th>1</th>\n",
       "      <td>13.20</td>\n",
       "      <td>0.001000</td>\n",
       "      <td>0</td>\n",
       "    </tr>\n",
       "    <tr>\n",
       "      <th>2</th>\n",
       "      <td>13.16</td>\n",
       "      <td>0.000869</td>\n",
       "      <td>0</td>\n",
       "    </tr>\n",
       "    <tr>\n",
       "      <th>3</th>\n",
       "      <td>14.37</td>\n",
       "      <td>0.000581</td>\n",
       "      <td>0</td>\n",
       "    </tr>\n",
       "    <tr>\n",
       "      <th>4</th>\n",
       "      <td>13.24</td>\n",
       "      <td>0.001415</td>\n",
       "      <td>0</td>\n",
       "    </tr>\n",
       "    <tr>\n",
       "      <th>...</th>\n",
       "      <td>...</td>\n",
       "      <td>...</td>\n",
       "      <td>...</td>\n",
       "    </tr>\n",
       "    <tr>\n",
       "      <th>125</th>\n",
       "      <td>12.07</td>\n",
       "      <td>0.002275</td>\n",
       "      <td>1</td>\n",
       "    </tr>\n",
       "    <tr>\n",
       "      <th>126</th>\n",
       "      <td>12.43</td>\n",
       "      <td>0.001960</td>\n",
       "      <td>1</td>\n",
       "    </tr>\n",
       "    <tr>\n",
       "      <th>127</th>\n",
       "      <td>11.79</td>\n",
       "      <td>0.002082</td>\n",
       "      <td>1</td>\n",
       "    </tr>\n",
       "    <tr>\n",
       "      <th>128</th>\n",
       "      <td>12.37</td>\n",
       "      <td>0.002602</td>\n",
       "      <td>1</td>\n",
       "    </tr>\n",
       "    <tr>\n",
       "      <th>129</th>\n",
       "      <td>12.04</td>\n",
       "      <td>0.001362</td>\n",
       "      <td>1</td>\n",
       "    </tr>\n",
       "  </tbody>\n",
       "</table>\n",
       "<p>130 rows × 3 columns</p>\n",
       "</div>"
      ]
     },
     "execution_count": 59,
     "metadata": {},
     "output_type": "execute_result"
    }
   ],
   "execution_count": 59
  },
  {
   "cell_type": "markdown",
   "source": "Let's start by calculating the mean value for the ***alcohol*** and ***new_var*** features.",
   "metadata": {
    "id": "Pau1x92-FPpT"
   }
  },
  {
   "cell_type": "code",
   "source": [
    "alcohol_mean = small_dataset['alcohol'].to_numpy().mean()\n",
    "alcohol_mean"
   ],
   "metadata": {
    "id": "qchNhRiQFPAj",
    "colab": {
     "base_uri": "https://localhost:8080/"
    },
    "executionInfo": {
     "status": "ok",
     "timestamp": 1721727948245,
     "user_tz": -60,
     "elapsed": 266,
     "user": {
      "displayName": "Daniel Agostinho",
      "userId": "10010588641999371336"
     }
    },
    "outputId": "7c7201d6-37ea-4b05-bd61-6b18cbad988c",
    "ExecuteTime": {
     "end_time": "2025-07-21T10:52:00.011278Z",
     "start_time": "2025-07-21T10:52:00.005259Z"
    }
   },
   "outputs": [
    {
     "data": {
      "text/plain": [
       "np.float64(12.944076923076922)"
      ]
     },
     "execution_count": 60,
     "metadata": {},
     "output_type": "execute_result"
    }
   ],
   "execution_count": 60
  },
  {
   "cell_type": "code",
   "source": [
    "new_var_mean = small_dataset['new_var'].to_numpy().mean()\n",
    "new_var_mean"
   ],
   "metadata": {
    "id": "B1cniyFhFkOT",
    "colab": {
     "base_uri": "https://localhost:8080/"
    },
    "executionInfo": {
     "status": "ok",
     "timestamp": 1721727948951,
     "user_tz": -60,
     "elapsed": 6,
     "user": {
      "displayName": "Daniel Agostinho",
      "userId": "10010588641999371336"
     }
    },
    "outputId": "97968e99-fd4f-46c2-a119-c1e5d976b21f",
    "ExecuteTime": {
     "end_time": "2025-07-21T10:52:00.282196Z",
     "start_time": "2025-07-21T10:52:00.271332Z"
    }
   },
   "outputs": [
    {
     "data": {
      "text/plain": [
       "np.float64(0.0016470753137354886)"
      ]
     },
     "execution_count": 61,
     "metadata": {},
     "output_type": "execute_result"
    }
   ],
   "execution_count": 61
  },
  {
   "cell_type": "markdown",
   "source": [
    "We can then use these values to create a simple decision tree model that will assign each wine to one of the two target classes based on a simple rule.\n",
    "\n",
    "As for which rule the model will apply, we saw that a higher than the mean **alcohol** value and a a lower than the mean value for the **new_var** will incorporate the majority of the class 0 cases. So, our model can be defined as the following:"
   ],
   "metadata": {
    "id": "Nkcqz-X8FsRh"
   }
  },
  {
   "cell_type": "code",
   "source": [
    "def simple_decision_tree(feature_1, feature_2, limit_feature_1, limit_feature_2):\n",
    "  if feature_1 > limit_feature_1 and feature_2 < limit_feature_2:\n",
    "    return 0\n",
    "  return 1\n"
   ],
   "metadata": {
    "id": "HraumC7xFs9j",
    "ExecuteTime": {
     "end_time": "2025-07-21T10:57:13.624078Z",
     "start_time": "2025-07-21T10:57:13.610622Z"
    }
   },
   "outputs": [],
   "execution_count": 65
  },
  {
   "cell_type": "markdown",
   "source": "## Model Validation",
   "metadata": {
    "id": "DQ820KHDmhnz"
   }
  },
  {
   "cell_type": "markdown",
   "source": "Now let's test our model and evaluate its efficiency.",
   "metadata": {
    "id": "E_tCrN4jIuep"
   }
  },
  {
   "cell_type": "code",
   "source": [
    "predictions = []\n",
    "data, targets = small_dataset.to_numpy()[:, :-1], small_dataset.to_numpy()[:, -1]\n",
    "number_of_samples, _ = data.shape\n",
    "\n",
    "for i in range(number_of_samples):\n",
    "  x_1, x_2 = data[i, :]\n",
    "  prediction = simple_decision_tree(x_1, x_2, alcohol_mean, new_var_mean)\n",
    "  predictions.append(prediction)\n"
   ],
   "metadata": {
    "id": "A4S5NzJjmmHh",
    "ExecuteTime": {
     "end_time": "2025-07-21T11:00:14.550167Z",
     "start_time": "2025-07-21T11:00:14.537251Z"
    }
   },
   "outputs": [],
   "execution_count": 67
  },
  {
   "cell_type": "markdown",
   "source": [
    "We will use accuracy to determine how good our model is:\n",
    "\n"
   ],
   "metadata": {
    "id": "HWTEjICxI6r8"
   }
  },
  {
   "cell_type": "code",
   "source": [
    "accurate_predictions = sum(predictions == targets)\n",
    "accuracy = round(accurate_predictions / number_of_samples * 100, 2)\n",
    "accuracy"
   ],
   "metadata": {
    "id": "16jKIET8I_10",
    "colab": {
     "base_uri": "https://localhost:8080/"
    },
    "executionInfo": {
     "status": "ok",
     "timestamp": 1721727952535,
     "user_tz": -60,
     "elapsed": 10,
     "user": {
      "displayName": "Daniel Agostinho",
      "userId": "10010588641999371336"
     }
    },
    "outputId": "67e908f1-ab2d-453f-a15e-eb229ae42566",
    "ExecuteTime": {
     "end_time": "2025-07-21T11:00:16.446241Z",
     "start_time": "2025-07-21T11:00:16.435265Z"
    }
   },
   "outputs": [
    {
     "data": {
      "text/plain": [
       "np.float64(96.15)"
      ]
     },
     "execution_count": 68,
     "metadata": {},
     "output_type": "execute_result"
    }
   ],
   "execution_count": 68
  },
  {
   "cell_type": "markdown",
   "source": "## **Challenge**",
   "metadata": {
    "id": "b5UceYYxGx7n"
   }
  },
  {
   "cell_type": "markdown",
   "source": "Using all you learnt here, try and improve the model's performance. Feel free to add more complex rules if you want.",
   "metadata": {
    "id": "hdYuk3cgG1RD"
   }
  },
  {
   "cell_type": "code",
   "source": [],
   "metadata": {
    "id": "nAXEtaDgG0vb"
   },
   "execution_count": null,
   "outputs": []
  }
 ]
}
